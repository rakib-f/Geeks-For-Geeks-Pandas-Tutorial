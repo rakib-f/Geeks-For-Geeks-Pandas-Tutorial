{
 "cells": [
  {
   "cell_type": "code",
   "execution_count": 1,
   "id": "c6448568-48f4-46d7-b705-e80cb81a43c9",
   "metadata": {},
   "outputs": [],
   "source": [
    "import pandas as pd"
   ]
  },
  {
   "cell_type": "code",
   "execution_count": 2,
   "id": "09a3f967-4f15-47c4-9d10-efc7b2c66cc6",
   "metadata": {},
   "outputs": [
    {
     "name": "stdout",
     "output_type": "stream",
     "text": [
      "Pandas Series:  Series([], dtype: object)\n",
      "Pandas Series:\n",
      " 0    g\n",
      "1    e\n",
      "2    e\n",
      "3    k\n",
      "4    s\n",
      "dtype: object\n"
     ]
    }
   ],
   "source": [
    "import numpy as np \n",
    "\n",
    "# Creating empty series \n",
    "ser = pd.Series() \n",
    "print(\"Pandas Series: \", ser) \n",
    "\n",
    "# simple array \n",
    "data = np.array(['g', 'e', 'e', 'k', 's']) \n",
    "\t\n",
    "ser = pd.Series(data) \n",
    "print(\"Pandas Series:\\n\", ser)\n"
   ]
  },
  {
   "cell_type": "code",
   "execution_count": 3,
   "id": "a9ccd251-7226-40b9-8aed-b0db8fa8d7ac",
   "metadata": {},
   "outputs": [
    {
     "name": "stdout",
     "output_type": "stream",
     "text": [
      "Empty DataFrame\n",
      "Columns: []\n",
      "Index: []\n",
      "        0\n",
      "0   Geeks\n",
      "1     For\n",
      "2   Geeks\n",
      "3      is\n",
      "4  portal\n",
      "5     for\n",
      "6   Geeks\n"
     ]
    }
   ],
   "source": [
    "# Calling DataFrame constructor \n",
    "df = pd.DataFrame() \n",
    "print(df) \n",
    "\n",
    "# list of strings \n",
    "lst = ['Geeks', 'For', 'Geeks', 'is', 'portal', 'for', 'Geeks'] \n",
    "\t\n",
    "# Calling DataFrame constructor on list \n",
    "df = pd.DataFrame(lst) \n",
    "print(df)\n"
   ]
  },
  {
   "cell_type": "code",
   "execution_count": 4,
   "id": "f1876b7c-f04d-4e03-a9ae-6d8fbafaf1c8",
   "metadata": {},
   "outputs": [
    {
     "name": "stdout",
     "output_type": "stream",
     "text": [
      "    Name  Age\n",
      "0    Tom   20\n",
      "1   nick   21\n",
      "2  krish   19\n",
      "3   jack   18\n"
     ]
    }
   ],
   "source": [
    "# intialise data of lists.\n",
    "data = {'Name':['Tom', 'nick', 'krish', 'jack'],\n",
    "        'Age':[20, 21, 19, 18]}\n",
    " \n",
    "# Create DataFrame\n",
    "df = pd.DataFrame(data)\n",
    " \n",
    "# Print the output.\n",
    "print(df)\n"
   ]
  },
  {
   "cell_type": "code",
   "execution_count": 5,
   "id": "67d783d4-44eb-4261-bdc3-acc98d3833a0",
   "metadata": {},
   "outputs": [
    {
     "data": {
      "text/html": [
       "<div>\n",
       "<style scoped>\n",
       "    .dataframe tbody tr th:only-of-type {\n",
       "        vertical-align: middle;\n",
       "    }\n",
       "\n",
       "    .dataframe tbody tr th {\n",
       "        vertical-align: top;\n",
       "    }\n",
       "\n",
       "    .dataframe thead th {\n",
       "        text-align: right;\n",
       "    }\n",
       "</style>\n",
       "<table border=\"1\" class=\"dataframe\">\n",
       "  <thead>\n",
       "    <tr style=\"text-align: right;\">\n",
       "      <th></th>\n",
       "      <th>Name</th>\n",
       "      <th>Age</th>\n",
       "      <th>Address</th>\n",
       "      <th>Qualification</th>\n",
       "    </tr>\n",
       "  </thead>\n",
       "  <tbody>\n",
       "    <tr>\n",
       "      <th>0</th>\n",
       "      <td>Jai</td>\n",
       "      <td>27</td>\n",
       "      <td>Delhi</td>\n",
       "      <td>Msc</td>\n",
       "    </tr>\n",
       "    <tr>\n",
       "      <th>1</th>\n",
       "      <td>Princi</td>\n",
       "      <td>24</td>\n",
       "      <td>Kanpur</td>\n",
       "      <td>MA</td>\n",
       "    </tr>\n",
       "    <tr>\n",
       "      <th>2</th>\n",
       "      <td>Gaurav</td>\n",
       "      <td>22</td>\n",
       "      <td>Allahabad</td>\n",
       "      <td>MCA</td>\n",
       "    </tr>\n",
       "    <tr>\n",
       "      <th>3</th>\n",
       "      <td>Anuj</td>\n",
       "      <td>32</td>\n",
       "      <td>Kannauj</td>\n",
       "      <td>Phd</td>\n",
       "    </tr>\n",
       "  </tbody>\n",
       "</table>\n",
       "</div>"
      ],
      "text/plain": [
       "     Name  Age    Address Qualification\n",
       "0     Jai   27      Delhi           Msc\n",
       "1  Princi   24     Kanpur            MA\n",
       "2  Gaurav   22  Allahabad           MCA\n",
       "3    Anuj   32    Kannauj           Phd"
      ]
     },
     "execution_count": 5,
     "metadata": {},
     "output_type": "execute_result"
    }
   ],
   "source": [
    "# Define a dictionary containing employee data\n",
    "data = {'Name':['Jai', 'Princi', 'Gaurav', 'Anuj'],\n",
    "        'Age':[27, 24, 22, 32],\n",
    "        'Address':['Delhi', 'Kanpur', 'Allahabad', 'Kannauj'],\n",
    "        'Qualification':['Msc', 'MA', 'MCA', 'Phd']}\n",
    " \n",
    "# Convert the dictionary into DataFrame \n",
    "df = pd.DataFrame(data)\n",
    "df"
   ]
  },
  {
   "cell_type": "code",
   "execution_count": 6,
   "id": "6bb20fff-536c-47c1-a1fa-c58f2ded9ad7",
   "metadata": {},
   "outputs": [
    {
     "data": {
      "text/html": [
       "<div>\n",
       "<style scoped>\n",
       "    .dataframe tbody tr th:only-of-type {\n",
       "        vertical-align: middle;\n",
       "    }\n",
       "\n",
       "    .dataframe tbody tr th {\n",
       "        vertical-align: top;\n",
       "    }\n",
       "\n",
       "    .dataframe thead th {\n",
       "        text-align: right;\n",
       "    }\n",
       "</style>\n",
       "<table border=\"1\" class=\"dataframe\">\n",
       "  <thead>\n",
       "    <tr style=\"text-align: right;\">\n",
       "      <th></th>\n",
       "      <th>Name</th>\n",
       "      <th>Qualification</th>\n",
       "    </tr>\n",
       "  </thead>\n",
       "  <tbody>\n",
       "    <tr>\n",
       "      <th>0</th>\n",
       "      <td>Jai</td>\n",
       "      <td>Msc</td>\n",
       "    </tr>\n",
       "    <tr>\n",
       "      <th>1</th>\n",
       "      <td>Princi</td>\n",
       "      <td>MA</td>\n",
       "    </tr>\n",
       "    <tr>\n",
       "      <th>2</th>\n",
       "      <td>Gaurav</td>\n",
       "      <td>MCA</td>\n",
       "    </tr>\n",
       "    <tr>\n",
       "      <th>3</th>\n",
       "      <td>Anuj</td>\n",
       "      <td>Phd</td>\n",
       "    </tr>\n",
       "  </tbody>\n",
       "</table>\n",
       "</div>"
      ],
      "text/plain": [
       "     Name Qualification\n",
       "0     Jai           Msc\n",
       "1  Princi            MA\n",
       "2  Gaurav           MCA\n",
       "3    Anuj           Phd"
      ]
     },
     "execution_count": 6,
     "metadata": {},
     "output_type": "execute_result"
    }
   ],
   "source": [
    "df[['Name','Qualification']]"
   ]
  },
  {
   "cell_type": "code",
   "execution_count": 7,
   "id": "6240dd04-7f78-42d7-b78c-3326377faccb",
   "metadata": {},
   "outputs": [
    {
     "name": "stdout",
     "output_type": "stream",
     "text": [
      "Team        Boston Celtics\n",
      "Number                 0.0\n",
      "Position                PG\n",
      "Age                   25.0\n",
      "Height                 6-2\n",
      "Weight               180.0\n",
      "College              Texas\n",
      "Salary           7730337.0\n",
      "Name: Avery Bradley, dtype: object \n",
      " Team        Boston Celtics\n",
      "Number                28.0\n",
      "Position                SG\n",
      "Age                   22.0\n",
      "Height                 6-5\n",
      "Weight               185.0\n",
      "College      Georgia State\n",
      "Salary           1148640.0\n",
      "Name: R.J. Hunter, dtype: object\n"
     ]
    }
   ],
   "source": [
    "# making data frame from csv file\n",
    "data = pd.read_csv(\"nba.csv\", index_col =\"Name\")\n",
    " \n",
    "# retrieving row by loc method\n",
    "first = data.loc[\"Avery Bradley\"]\n",
    "second = data.loc[\"R.J. Hunter\"]\n",
    "\n",
    "print(first, \"\\n\", second)\n"
   ]
  },
  {
   "cell_type": "code",
   "execution_count": 10,
   "id": "86f0cc41-5ad2-42dd-b176-a4e1f223b212",
   "metadata": {},
   "outputs": [
    {
     "data": {
      "text/plain": [
       "Name\n",
       "Avery Bradley    25.0\n",
       "Jae Crowder      25.0\n",
       "John Holland     27.0\n",
       "R.J. Hunter      22.0\n",
       "Jonas Jerebko    29.0\n",
       "                 ... \n",
       "Shelvin Mack     26.0\n",
       "Raul Neto        24.0\n",
       "Tibor Pleiss     26.0\n",
       "Jeff Withey      26.0\n",
       "NaN               NaN\n",
       "Name: Age, Length: 458, dtype: float64"
      ]
     },
     "execution_count": 10,
     "metadata": {},
     "output_type": "execute_result"
    }
   ],
   "source": [
    "first=data['Age']\n",
    "first"
   ]
  },
  {
   "cell_type": "code",
   "execution_count": 12,
   "id": "a4fdf8be-10d7-4ddd-91eb-3d5924249d56",
   "metadata": {},
   "outputs": [
    {
     "name": "stdout",
     "output_type": "stream",
     "text": [
      "Team           Boston Celtics\n",
      "Number                   30.0\n",
      "Position                   SG\n",
      "Age                      27.0\n",
      "Height                    6-5\n",
      "Weight                  205.0\n",
      "College     Boston University\n",
      "Salary                    NaN\n",
      "Name: John Holland, dtype: object \n",
      "\n",
      " Team        Boston Celtics\n",
      "Number                28.0\n",
      "Position                SG\n",
      "Age                   22.0\n",
      "Height                 6-5\n",
      "Weight               185.0\n",
      "College      Georgia State\n",
      "Salary           1148640.0\n",
      "Name: R.J. Hunter, dtype: object\n"
     ]
    }
   ],
   "source": [
    "first=data.loc['John Holland']\n",
    "second=data.loc['R.J. Hunter']\n",
    "print(first,'\\n\\n',second)"
   ]
  },
  {
   "cell_type": "code",
   "execution_count": 14,
   "id": "4a45e73d-5091-46a2-bb69-9450ec0d846c",
   "metadata": {},
   "outputs": [
    {
     "data": {
      "text/plain": [
       "Team        Boston Celtics\n",
       "Number                28.0\n",
       "Position                SG\n",
       "Age                   22.0\n",
       "Height                 6-5\n",
       "Weight               185.0\n",
       "College      Georgia State\n",
       "Salary           1148640.0\n",
       "Name: R.J. Hunter, dtype: object"
      ]
     },
     "execution_count": 14,
     "metadata": {},
     "output_type": "execute_result"
    }
   ],
   "source": [
    "row4=data.iloc[3]\n",
    "row4"
   ]
  },
  {
   "cell_type": "code",
   "execution_count": 16,
   "id": "da73b3a7-481e-4656-8400-eb92188abbaa",
   "metadata": {},
   "outputs": [
    {
     "data": {
      "text/plain": [
       "Team         1\n",
       "Number       1\n",
       "Position     1\n",
       "Age          1\n",
       "Height       1\n",
       "Weight       1\n",
       "College     85\n",
       "Salary      12\n",
       "dtype: int64"
      ]
     },
     "execution_count": 16,
     "metadata": {},
     "output_type": "execute_result"
    }
   ],
   "source": [
    "data.isnull().sum()"
   ]
  },
  {
   "cell_type": "code",
   "execution_count": 17,
   "id": "a6ea6337-ea0d-44e4-a3de-ad1bc78f656a",
   "metadata": {},
   "outputs": [
    {
     "data": {
      "text/plain": [
       "Team        457\n",
       "Number      457\n",
       "Position    457\n",
       "Age         457\n",
       "Height      457\n",
       "Weight      457\n",
       "College     373\n",
       "Salary      446\n",
       "dtype: int64"
      ]
     },
     "execution_count": 17,
     "metadata": {},
     "output_type": "execute_result"
    }
   ],
   "source": [
    "data.notnull().sum()"
   ]
  },
  {
   "cell_type": "code",
   "execution_count": 18,
   "id": "05e15655-89ed-4e41-b3db-a83f6e4c5ca4",
   "metadata": {},
   "outputs": [
    {
     "data": {
      "text/html": [
       "<div>\n",
       "<style scoped>\n",
       "    .dataframe tbody tr th:only-of-type {\n",
       "        vertical-align: middle;\n",
       "    }\n",
       "\n",
       "    .dataframe tbody tr th {\n",
       "        vertical-align: top;\n",
       "    }\n",
       "\n",
       "    .dataframe thead th {\n",
       "        text-align: right;\n",
       "    }\n",
       "</style>\n",
       "<table border=\"1\" class=\"dataframe\">\n",
       "  <thead>\n",
       "    <tr style=\"text-align: right;\">\n",
       "      <th></th>\n",
       "      <th>Team</th>\n",
       "      <th>Number</th>\n",
       "      <th>Position</th>\n",
       "      <th>Age</th>\n",
       "      <th>Height</th>\n",
       "      <th>Weight</th>\n",
       "      <th>College</th>\n",
       "      <th>Salary</th>\n",
       "    </tr>\n",
       "    <tr>\n",
       "      <th>Name</th>\n",
       "      <th></th>\n",
       "      <th></th>\n",
       "      <th></th>\n",
       "      <th></th>\n",
       "      <th></th>\n",
       "      <th></th>\n",
       "      <th></th>\n",
       "      <th></th>\n",
       "    </tr>\n",
       "  </thead>\n",
       "  <tbody>\n",
       "    <tr>\n",
       "      <th>Avery Bradley</th>\n",
       "      <td>Boston Celtics</td>\n",
       "      <td>0.0</td>\n",
       "      <td>PG</td>\n",
       "      <td>25.0</td>\n",
       "      <td>6-2</td>\n",
       "      <td>180.0</td>\n",
       "      <td>Texas</td>\n",
       "      <td>7730337.0</td>\n",
       "    </tr>\n",
       "    <tr>\n",
       "      <th>Jae Crowder</th>\n",
       "      <td>Boston Celtics</td>\n",
       "      <td>99.0</td>\n",
       "      <td>SF</td>\n",
       "      <td>25.0</td>\n",
       "      <td>6-6</td>\n",
       "      <td>235.0</td>\n",
       "      <td>Marquette</td>\n",
       "      <td>6796117.0</td>\n",
       "    </tr>\n",
       "    <tr>\n",
       "      <th>John Holland</th>\n",
       "      <td>Boston Celtics</td>\n",
       "      <td>30.0</td>\n",
       "      <td>SG</td>\n",
       "      <td>27.0</td>\n",
       "      <td>6-5</td>\n",
       "      <td>205.0</td>\n",
       "      <td>Boston University</td>\n",
       "      <td>0.0</td>\n",
       "    </tr>\n",
       "    <tr>\n",
       "      <th>R.J. Hunter</th>\n",
       "      <td>Boston Celtics</td>\n",
       "      <td>28.0</td>\n",
       "      <td>SG</td>\n",
       "      <td>22.0</td>\n",
       "      <td>6-5</td>\n",
       "      <td>185.0</td>\n",
       "      <td>Georgia State</td>\n",
       "      <td>1148640.0</td>\n",
       "    </tr>\n",
       "    <tr>\n",
       "      <th>Jonas Jerebko</th>\n",
       "      <td>Boston Celtics</td>\n",
       "      <td>8.0</td>\n",
       "      <td>PF</td>\n",
       "      <td>29.0</td>\n",
       "      <td>6-10</td>\n",
       "      <td>231.0</td>\n",
       "      <td>0</td>\n",
       "      <td>5000000.0</td>\n",
       "    </tr>\n",
       "    <tr>\n",
       "      <th>...</th>\n",
       "      <td>...</td>\n",
       "      <td>...</td>\n",
       "      <td>...</td>\n",
       "      <td>...</td>\n",
       "      <td>...</td>\n",
       "      <td>...</td>\n",
       "      <td>...</td>\n",
       "      <td>...</td>\n",
       "    </tr>\n",
       "    <tr>\n",
       "      <th>Shelvin Mack</th>\n",
       "      <td>Utah Jazz</td>\n",
       "      <td>8.0</td>\n",
       "      <td>PG</td>\n",
       "      <td>26.0</td>\n",
       "      <td>6-3</td>\n",
       "      <td>203.0</td>\n",
       "      <td>Butler</td>\n",
       "      <td>2433333.0</td>\n",
       "    </tr>\n",
       "    <tr>\n",
       "      <th>Raul Neto</th>\n",
       "      <td>Utah Jazz</td>\n",
       "      <td>25.0</td>\n",
       "      <td>PG</td>\n",
       "      <td>24.0</td>\n",
       "      <td>6-1</td>\n",
       "      <td>179.0</td>\n",
       "      <td>0</td>\n",
       "      <td>900000.0</td>\n",
       "    </tr>\n",
       "    <tr>\n",
       "      <th>Tibor Pleiss</th>\n",
       "      <td>Utah Jazz</td>\n",
       "      <td>21.0</td>\n",
       "      <td>C</td>\n",
       "      <td>26.0</td>\n",
       "      <td>7-3</td>\n",
       "      <td>256.0</td>\n",
       "      <td>0</td>\n",
       "      <td>2900000.0</td>\n",
       "    </tr>\n",
       "    <tr>\n",
       "      <th>Jeff Withey</th>\n",
       "      <td>Utah Jazz</td>\n",
       "      <td>24.0</td>\n",
       "      <td>C</td>\n",
       "      <td>26.0</td>\n",
       "      <td>7-0</td>\n",
       "      <td>231.0</td>\n",
       "      <td>Kansas</td>\n",
       "      <td>947276.0</td>\n",
       "    </tr>\n",
       "    <tr>\n",
       "      <th>NaN</th>\n",
       "      <td>0</td>\n",
       "      <td>0.0</td>\n",
       "      <td>0</td>\n",
       "      <td>0.0</td>\n",
       "      <td>0</td>\n",
       "      <td>0.0</td>\n",
       "      <td>0</td>\n",
       "      <td>0.0</td>\n",
       "    </tr>\n",
       "  </tbody>\n",
       "</table>\n",
       "<p>458 rows × 8 columns</p>\n",
       "</div>"
      ],
      "text/plain": [
       "                         Team  Number Position   Age Height  Weight  \\\n",
       "Name                                                                  \n",
       "Avery Bradley  Boston Celtics     0.0       PG  25.0    6-2   180.0   \n",
       "Jae Crowder    Boston Celtics    99.0       SF  25.0    6-6   235.0   \n",
       "John Holland   Boston Celtics    30.0       SG  27.0    6-5   205.0   \n",
       "R.J. Hunter    Boston Celtics    28.0       SG  22.0    6-5   185.0   \n",
       "Jonas Jerebko  Boston Celtics     8.0       PF  29.0   6-10   231.0   \n",
       "...                       ...     ...      ...   ...    ...     ...   \n",
       "Shelvin Mack        Utah Jazz     8.0       PG  26.0    6-3   203.0   \n",
       "Raul Neto           Utah Jazz    25.0       PG  24.0    6-1   179.0   \n",
       "Tibor Pleiss        Utah Jazz    21.0        C  26.0    7-3   256.0   \n",
       "Jeff Withey         Utah Jazz    24.0        C  26.0    7-0   231.0   \n",
       "NaN                         0     0.0        0   0.0      0     0.0   \n",
       "\n",
       "                         College     Salary  \n",
       "Name                                         \n",
       "Avery Bradley              Texas  7730337.0  \n",
       "Jae Crowder            Marquette  6796117.0  \n",
       "John Holland   Boston University        0.0  \n",
       "R.J. Hunter        Georgia State  1148640.0  \n",
       "Jonas Jerebko                  0  5000000.0  \n",
       "...                          ...        ...  \n",
       "Shelvin Mack              Butler  2433333.0  \n",
       "Raul Neto                      0   900000.0  \n",
       "Tibor Pleiss                   0  2900000.0  \n",
       "Jeff Withey               Kansas   947276.0  \n",
       "NaN                            0        0.0  \n",
       "\n",
       "[458 rows x 8 columns]"
      ]
     },
     "execution_count": 18,
     "metadata": {},
     "output_type": "execute_result"
    }
   ],
   "source": [
    "data.fillna(0)"
   ]
  },
  {
   "cell_type": "code",
   "execution_count": 19,
   "id": "652b8b43-05f5-42d9-8d16-49e26ff3205f",
   "metadata": {},
   "outputs": [
    {
     "data": {
      "text/html": [
       "<div>\n",
       "<style scoped>\n",
       "    .dataframe tbody tr th:only-of-type {\n",
       "        vertical-align: middle;\n",
       "    }\n",
       "\n",
       "    .dataframe tbody tr th {\n",
       "        vertical-align: top;\n",
       "    }\n",
       "\n",
       "    .dataframe thead th {\n",
       "        text-align: right;\n",
       "    }\n",
       "</style>\n",
       "<table border=\"1\" class=\"dataframe\">\n",
       "  <thead>\n",
       "    <tr style=\"text-align: right;\">\n",
       "      <th></th>\n",
       "      <th>Team</th>\n",
       "      <th>Number</th>\n",
       "      <th>Position</th>\n",
       "      <th>Age</th>\n",
       "      <th>Height</th>\n",
       "      <th>Weight</th>\n",
       "      <th>College</th>\n",
       "      <th>Salary</th>\n",
       "    </tr>\n",
       "    <tr>\n",
       "      <th>Name</th>\n",
       "      <th></th>\n",
       "      <th></th>\n",
       "      <th></th>\n",
       "      <th></th>\n",
       "      <th></th>\n",
       "      <th></th>\n",
       "      <th></th>\n",
       "      <th></th>\n",
       "    </tr>\n",
       "  </thead>\n",
       "  <tbody>\n",
       "    <tr>\n",
       "      <th>Avery Bradley</th>\n",
       "      <td>Boston Celtics</td>\n",
       "      <td>0.0</td>\n",
       "      <td>PG</td>\n",
       "      <td>25.0</td>\n",
       "      <td>6-2</td>\n",
       "      <td>180.0</td>\n",
       "      <td>Texas</td>\n",
       "      <td>7730337.0</td>\n",
       "    </tr>\n",
       "    <tr>\n",
       "      <th>Jae Crowder</th>\n",
       "      <td>Boston Celtics</td>\n",
       "      <td>99.0</td>\n",
       "      <td>SF</td>\n",
       "      <td>25.0</td>\n",
       "      <td>6-6</td>\n",
       "      <td>235.0</td>\n",
       "      <td>Marquette</td>\n",
       "      <td>6796117.0</td>\n",
       "    </tr>\n",
       "    <tr>\n",
       "      <th>R.J. Hunter</th>\n",
       "      <td>Boston Celtics</td>\n",
       "      <td>28.0</td>\n",
       "      <td>SG</td>\n",
       "      <td>22.0</td>\n",
       "      <td>6-5</td>\n",
       "      <td>185.0</td>\n",
       "      <td>Georgia State</td>\n",
       "      <td>1148640.0</td>\n",
       "    </tr>\n",
       "    <tr>\n",
       "      <th>Jordan Mickey</th>\n",
       "      <td>Boston Celtics</td>\n",
       "      <td>55.0</td>\n",
       "      <td>PF</td>\n",
       "      <td>21.0</td>\n",
       "      <td>6-8</td>\n",
       "      <td>235.0</td>\n",
       "      <td>LSU</td>\n",
       "      <td>1170960.0</td>\n",
       "    </tr>\n",
       "    <tr>\n",
       "      <th>Kelly Olynyk</th>\n",
       "      <td>Boston Celtics</td>\n",
       "      <td>41.0</td>\n",
       "      <td>C</td>\n",
       "      <td>25.0</td>\n",
       "      <td>7-0</td>\n",
       "      <td>238.0</td>\n",
       "      <td>Gonzaga</td>\n",
       "      <td>2165160.0</td>\n",
       "    </tr>\n",
       "    <tr>\n",
       "      <th>...</th>\n",
       "      <td>...</td>\n",
       "      <td>...</td>\n",
       "      <td>...</td>\n",
       "      <td>...</td>\n",
       "      <td>...</td>\n",
       "      <td>...</td>\n",
       "      <td>...</td>\n",
       "      <td>...</td>\n",
       "    </tr>\n",
       "    <tr>\n",
       "      <th>Rodney Hood</th>\n",
       "      <td>Utah Jazz</td>\n",
       "      <td>5.0</td>\n",
       "      <td>SG</td>\n",
       "      <td>23.0</td>\n",
       "      <td>6-8</td>\n",
       "      <td>206.0</td>\n",
       "      <td>Duke</td>\n",
       "      <td>1348440.0</td>\n",
       "    </tr>\n",
       "    <tr>\n",
       "      <th>Chris Johnson</th>\n",
       "      <td>Utah Jazz</td>\n",
       "      <td>23.0</td>\n",
       "      <td>SF</td>\n",
       "      <td>26.0</td>\n",
       "      <td>6-6</td>\n",
       "      <td>206.0</td>\n",
       "      <td>Dayton</td>\n",
       "      <td>981348.0</td>\n",
       "    </tr>\n",
       "    <tr>\n",
       "      <th>Trey Lyles</th>\n",
       "      <td>Utah Jazz</td>\n",
       "      <td>41.0</td>\n",
       "      <td>PF</td>\n",
       "      <td>20.0</td>\n",
       "      <td>6-10</td>\n",
       "      <td>234.0</td>\n",
       "      <td>Kentucky</td>\n",
       "      <td>2239800.0</td>\n",
       "    </tr>\n",
       "    <tr>\n",
       "      <th>Shelvin Mack</th>\n",
       "      <td>Utah Jazz</td>\n",
       "      <td>8.0</td>\n",
       "      <td>PG</td>\n",
       "      <td>26.0</td>\n",
       "      <td>6-3</td>\n",
       "      <td>203.0</td>\n",
       "      <td>Butler</td>\n",
       "      <td>2433333.0</td>\n",
       "    </tr>\n",
       "    <tr>\n",
       "      <th>Jeff Withey</th>\n",
       "      <td>Utah Jazz</td>\n",
       "      <td>24.0</td>\n",
       "      <td>C</td>\n",
       "      <td>26.0</td>\n",
       "      <td>7-0</td>\n",
       "      <td>231.0</td>\n",
       "      <td>Kansas</td>\n",
       "      <td>947276.0</td>\n",
       "    </tr>\n",
       "  </tbody>\n",
       "</table>\n",
       "<p>364 rows × 8 columns</p>\n",
       "</div>"
      ],
      "text/plain": [
       "                         Team  Number Position   Age Height  Weight  \\\n",
       "Name                                                                  \n",
       "Avery Bradley  Boston Celtics     0.0       PG  25.0    6-2   180.0   \n",
       "Jae Crowder    Boston Celtics    99.0       SF  25.0    6-6   235.0   \n",
       "R.J. Hunter    Boston Celtics    28.0       SG  22.0    6-5   185.0   \n",
       "Jordan Mickey  Boston Celtics    55.0       PF  21.0    6-8   235.0   \n",
       "Kelly Olynyk   Boston Celtics    41.0        C  25.0    7-0   238.0   \n",
       "...                       ...     ...      ...   ...    ...     ...   \n",
       "Rodney Hood         Utah Jazz     5.0       SG  23.0    6-8   206.0   \n",
       "Chris Johnson       Utah Jazz    23.0       SF  26.0    6-6   206.0   \n",
       "Trey Lyles          Utah Jazz    41.0       PF  20.0   6-10   234.0   \n",
       "Shelvin Mack        Utah Jazz     8.0       PG  26.0    6-3   203.0   \n",
       "Jeff Withey         Utah Jazz    24.0        C  26.0    7-0   231.0   \n",
       "\n",
       "                     College     Salary  \n",
       "Name                                     \n",
       "Avery Bradley          Texas  7730337.0  \n",
       "Jae Crowder        Marquette  6796117.0  \n",
       "R.J. Hunter    Georgia State  1148640.0  \n",
       "Jordan Mickey            LSU  1170960.0  \n",
       "Kelly Olynyk         Gonzaga  2165160.0  \n",
       "...                      ...        ...  \n",
       "Rodney Hood             Duke  1348440.0  \n",
       "Chris Johnson         Dayton   981348.0  \n",
       "Trey Lyles          Kentucky  2239800.0  \n",
       "Shelvin Mack          Butler  2433333.0  \n",
       "Jeff Withey           Kansas   947276.0  \n",
       "\n",
       "[364 rows x 8 columns]"
      ]
     },
     "execution_count": 19,
     "metadata": {},
     "output_type": "execute_result"
    }
   ],
   "source": [
    "data.dropna()"
   ]
  },
  {
   "cell_type": "code",
   "execution_count": 21,
   "id": "a13084c4-12f0-42a6-a2ac-e2b671ef685d",
   "metadata": {},
   "outputs": [
    {
     "name": "stdout",
     "output_type": "stream",
     "text": [
      "0 name      aparna\n",
      "degree       MBA\n",
      "score         90\n",
      "Name: 0, dtype: object\n",
      "\n",
      "1 name      pankaj\n",
      "degree       BCA\n",
      "score         40\n",
      "Name: 1, dtype: object\n",
      "\n",
      "2 name      sudhir\n",
      "degree    M.Tech\n",
      "score         80\n",
      "Name: 2, dtype: object\n",
      "\n",
      "3 name      Geeku\n",
      "degree      MBA\n",
      "score        98\n",
      "Name: 3, dtype: object\n",
      "\n"
     ]
    }
   ],
   "source": [
    "# dictionary of lists\n",
    "dict = {'name':[\"aparna\", \"pankaj\", \"sudhir\", \"Geeku\"],\n",
    "        'degree': [\"MBA\", \"BCA\", \"M.Tech\", \"MBA\"],\n",
    "        'score':[90, 40, 80, 98]}\n",
    " \n",
    "# creating a dataframe from a dictionary \n",
    "df = pd.DataFrame(dict)\n",
    " \n",
    "# iterating over rows using iterrows() function \n",
    "for i, j in df.iterrows():\n",
    "    print(i, j)\n",
    "    print()\n"
   ]
  },
  {
   "cell_type": "code",
   "execution_count": 26,
   "id": "0d243989-c4d2-4025-bb71-1e2342ae1792",
   "metadata": {},
   "outputs": [
    {
     "name": "stdout",
     "output_type": "stream",
     "text": [
      "Pandas(Index=0, name='aparna', degree='MBA', score=90)\n",
      " \n",
      "Pandas(Index=1, name='pankaj', degree='BCA', score=40)\n",
      " \n",
      "Pandas(Index=2, name='sudhir', degree='M.Tech', score=80)\n",
      " \n",
      "Pandas(Index=3, name='Geeku', degree='MBA', score=98)\n",
      " \n"
     ]
    }
   ],
   "source": [
    "for i in df.itertuples():\n",
    "    print(i)\n",
    "    print(\" \")"
   ]
  },
  {
   "cell_type": "code",
   "execution_count": 30,
   "id": "b5187039-381c-4877-a7c4-dece81b2d7b4",
   "metadata": {},
   "outputs": [
    {
     "name": "stdout",
     "output_type": "stream",
     "text": [
      "Geeku\n",
      " \n",
      "MBA\n",
      " \n",
      "98\n",
      " \n"
     ]
    }
   ],
   "source": [
    "columns=list(df)\n",
    "for i in columns:\n",
    "    print(df[i][3])\n",
    "    print(\" \")"
   ]
  },
  {
   "cell_type": "code",
   "execution_count": 32,
   "id": "e086caf3-6c36-4266-8d37-d47a6ef849f3",
   "metadata": {},
   "outputs": [
    {
     "name": "stdout",
     "output_type": "stream",
     "text": [
      "Empty DataFrame\n",
      "Columns: []\n",
      "Index: []\n"
     ]
    }
   ],
   "source": [
    "df=pd.DataFrame()\n",
    "print(df)"
   ]
  },
  {
   "cell_type": "code",
   "execution_count": 36,
   "id": "ef3d9d0c-386f-474b-b68a-66bb31fecacf",
   "metadata": {},
   "outputs": [
    {
     "data": {
      "text/html": [
       "<div>\n",
       "<style scoped>\n",
       "    .dataframe tbody tr th:only-of-type {\n",
       "        vertical-align: middle;\n",
       "    }\n",
       "\n",
       "    .dataframe tbody tr th {\n",
       "        vertical-align: top;\n",
       "    }\n",
       "\n",
       "    .dataframe thead th {\n",
       "        text-align: right;\n",
       "    }\n",
       "</style>\n",
       "<table border=\"1\" class=\"dataframe\">\n",
       "  <thead>\n",
       "    <tr style=\"text-align: right;\">\n",
       "      <th></th>\n",
       "      <th>Name</th>\n",
       "      <th>Age</th>\n",
       "    </tr>\n",
       "  </thead>\n",
       "  <tbody>\n",
       "    <tr>\n",
       "      <th>0</th>\n",
       "      <td>tom</td>\n",
       "      <td>25</td>\n",
       "    </tr>\n",
       "    <tr>\n",
       "      <th>1</th>\n",
       "      <td>krish</td>\n",
       "      <td>30</td>\n",
       "    </tr>\n",
       "    <tr>\n",
       "      <th>2</th>\n",
       "      <td>nick</td>\n",
       "      <td>26</td>\n",
       "    </tr>\n",
       "    <tr>\n",
       "      <th>3</th>\n",
       "      <td>juli</td>\n",
       "      <td>22</td>\n",
       "    </tr>\n",
       "  </tbody>\n",
       "</table>\n",
       "</div>"
      ],
      "text/plain": [
       "    Name  Age\n",
       "0    tom   25\n",
       "1  krish   30\n",
       "2   nick   26\n",
       "3   juli   22"
      ]
     },
     "execution_count": 36,
     "metadata": {},
     "output_type": "execute_result"
    }
   ],
   "source": [
    "# Python program to demonstrate creating\n",
    "# pandas Dataframe from lists using zip.\n",
    "\n",
    "# List1\n",
    "Name = ['tom', 'krish', 'nick', 'juli']\n",
    "\n",
    "# List2\n",
    "Age = [25, 30, 26, 22]\n",
    "\n",
    "# get the list of tuples from two lists.\n",
    "# and merge them by using zip().\n",
    "list_of_tuples = list(zip(Name, Age))\n",
    "\n",
    "# Converting lists of tuples into\n",
    "# pandas Dataframe.\n",
    "df = pd.DataFrame(list_of_tuples, columns = ['Name', 'Age'])\n",
    "\n",
    "# Print data.\n",
    "df\n"
   ]
  },
  {
   "cell_type": "code",
   "execution_count": 37,
   "id": "1a496389-5ac7-49f1-9e73-dfef10db331e",
   "metadata": {},
   "outputs": [
    {
     "name": "stdout",
     "output_type": "stream",
     "text": [
      "0    1\n",
      "1    2\n",
      "2    3\n",
      "3    4\n",
      "dtype: int64\n"
     ]
    }
   ],
   "source": [
    "# simple array\n",
    "data = [1, 2, 3, 4]\n",
    " \n",
    "ser = pd.Series(data)\n",
    "print(ser)"
   ]
  },
  {
   "cell_type": "code",
   "execution_count": 38,
   "id": "875ddfb9-c51c-4df9-9be8-396694130cd8",
   "metadata": {},
   "outputs": [
    {
     "name": "stdout",
     "output_type": "stream",
     "text": [
      "0    g\n",
      "1    e\n",
      "2    e\n",
      "3    k\n",
      "4    s\n",
      "dtype: object\n"
     ]
    }
   ],
   "source": [
    "# simple array\n",
    "data = np.array(['g','e','e','k','s'])\n",
    " \n",
    "ser = pd.Series(data)\n",
    "print(ser)"
   ]
  },
  {
   "cell_type": "code",
   "execution_count": 39,
   "id": "e87a9e56-cdc0-4bfc-8bfb-64a25eafc73f",
   "metadata": {},
   "outputs": [
    {
     "data": {
      "text/plain": [
       "0    g\n",
       "1    e\n",
       "2    e\n",
       "3    k\n",
       "dtype: object"
      ]
     },
     "execution_count": 39,
     "metadata": {},
     "output_type": "execute_result"
    }
   ],
   "source": [
    "ser[:4]"
   ]
  },
  {
   "cell_type": "code",
   "execution_count": 40,
   "id": "8923c040-2cd1-4949-a3e1-e91c47a6ba66",
   "metadata": {},
   "outputs": [
    {
     "data": {
      "text/plain": [
       "'s'"
      ]
     },
     "execution_count": 40,
     "metadata": {},
     "output_type": "execute_result"
    }
   ],
   "source": [
    "ser[4]"
   ]
  },
  {
   "cell_type": "code",
   "execution_count": 46,
   "id": "ef13ce1c-843d-4cbc-bc34-4096035906fc",
   "metadata": {},
   "outputs": [
    {
     "data": {
      "text/plain": [
       "3      R.J. Hunter\n",
       "4    Jonas Jerebko\n",
       "5     Amir Johnson\n",
       "Name: Name, dtype: object"
      ]
     },
     "execution_count": 46,
     "metadata": {},
     "output_type": "execute_result"
    }
   ],
   "source": [
    "# making data frame from csv file\n",
    "data = pd.read_csv(\"nba.csv\")\n",
    "ser = pd.Series(data['Name'])\n",
    "names = ser.head(10)\n",
    "names[3:6]"
   ]
  },
  {
   "cell_type": "code",
   "execution_count": 47,
   "id": "e1f5d4c9-6074-4a93-8349-d405509a6785",
   "metadata": {},
   "outputs": [
    {
     "data": {
      "text/plain": [
       "3      R.J. Hunter\n",
       "4    Jonas Jerebko\n",
       "5     Amir Johnson\n",
       "6    Jordan Mickey\n",
       "Name: Name, dtype: object"
      ]
     },
     "execution_count": 47,
     "metadata": {},
     "output_type": "execute_result"
    }
   ],
   "source": [
    "names.loc[3:6]"
   ]
  },
  {
   "cell_type": "code",
   "execution_count": 48,
   "id": "51984eb9-d168-4978-b147-be3f550b8761",
   "metadata": {},
   "outputs": [
    {
     "data": {
      "text/plain": [
       "3      R.J. Hunter\n",
       "4    Jonas Jerebko\n",
       "5     Amir Johnson\n",
       "Name: Name, dtype: object"
      ]
     },
     "execution_count": 48,
     "metadata": {},
     "output_type": "execute_result"
    }
   ],
   "source": [
    "names.iloc[3:6]"
   ]
  },
  {
   "cell_type": "code",
   "execution_count": 49,
   "id": "893fd068-d13a-4238-a667-d93242a910b7",
   "metadata": {},
   "outputs": [
    {
     "data": {
      "text/plain": [
       "a     6.0\n",
       "b     8.0\n",
       "c     NaN\n",
       "d    11.0\n",
       "e     NaN\n",
       "dtype: float64"
      ]
     },
     "execution_count": 49,
     "metadata": {},
     "output_type": "execute_result"
    }
   ],
   "source": [
    "# creating a series\n",
    "data = pd.Series([5, 2, 3,7], index=['a', 'b', 'c', 'd'])\n",
    " \n",
    "# creating a series\n",
    "data1 = pd.Series([1, 6, 4, 9], index=['a', 'b', 'd', 'e'])\n",
    " \n",
    "data.add(data1)\n"
   ]
  },
  {
   "cell_type": "code",
   "execution_count": 51,
   "id": "6e0036a1-7595-476f-ac77-d34bee790c77",
   "metadata": {},
   "outputs": [
    {
     "data": {
      "text/plain": [
       "a    4.0\n",
       "b   -4.0\n",
       "c    3.0\n",
       "d    3.0\n",
       "e   -9.0\n",
       "dtype: float64"
      ]
     },
     "execution_count": 51,
     "metadata": {},
     "output_type": "execute_result"
    }
   ],
   "source": [
    "data.sub(data1, fill_value=0)"
   ]
  },
  {
   "cell_type": "code",
   "execution_count": 52,
   "id": "b9b24d22-1756-474e-9bc5-80bfeea86840",
   "metadata": {},
   "outputs": [
    {
     "name": "stdout",
     "output_type": "stream",
     "text": [
      "BEFORE CONVERSION\n",
      " Name         object\n",
      "Team         object\n",
      "Number      float64\n",
      "Position     object\n",
      "Age         float64\n",
      "Height       object\n",
      "Weight      float64\n",
      "College      object\n",
      "Salary      float64\n",
      "dtype: object \n",
      "\n",
      "AFTER CONVERSION\n",
      " Name         object\n",
      "Team         object\n",
      "Number       object\n",
      "Position     object\n",
      "Age         float64\n",
      "Height       object\n",
      "Weight      float64\n",
      "College      object\n",
      "Salary        int32\n",
      "dtype: object \n",
      "\n"
     ]
    }
   ],
   "source": [
    "# reading csv file from url  \n",
    "data = pd.read_csv(\"nba.csv\") \n",
    "    \n",
    "# dropping null value columns to avoid errors \n",
    "data.dropna(inplace = True) \n",
    "   \n",
    "# storing dtype before converting \n",
    "before = data.dtypes \n",
    "   \n",
    "# converting dtypes using astype \n",
    "data[\"Salary\"]= data[\"Salary\"].astype(int) \n",
    "data[\"Number\"]= data[\"Number\"].astype(str) \n",
    "   \n",
    "# storing dtype after converting \n",
    "after = data.dtypes \n",
    "   \n",
    "# printing to compare \n",
    "print(\"BEFORE CONVERSION\\n\", before, \"\\n\") \n",
    "print(\"AFTER CONVERSION\\n\", after, \"\\n\") \n"
   ]
  },
  {
   "cell_type": "code",
   "execution_count": 53,
   "id": "b14e171e-131a-472c-a921-01253a830267",
   "metadata": {},
   "outputs": [
    {
     "name": "stdout",
     "output_type": "stream",
     "text": [
      "Data type before converting = <class 'pandas.core.series.Series'>\n",
      "Data type after converting = <class 'list'>\n"
     ]
    },
    {
     "data": {
      "text/plain": [
       "[7730337,\n",
       " 6796117,\n",
       " 1148640,\n",
       " 1170960,\n",
       " 2165160,\n",
       " 1824360,\n",
       " 3431040,\n",
       " 2569260,\n",
       " 6912869,\n",
       " 3425510,\n",
       " 1749840,\n",
       " 2616975,\n",
       " 845059,\n",
       " 1500000,\n",
       " 1335480,\n",
       " 6300000,\n",
       " 134215,\n",
       " 1500000,\n",
       " 19689000,\n",
       " 1140240,\n",
       " 947276,\n",
       " 981348,\n",
       " 947276,\n",
       " 947276,\n",
       " 11235955,\n",
       " 8000000,\n",
       " 1635476,\n",
       " 22875000,\n",
       " 845059,\n",
       " 845059,\n",
       " 1572360,\n",
       " 12650000,\n",
       " 3750000,\n",
       " 1636842,\n",
       " 4000000,\n",
       " 167406,\n",
       " 947276,\n",
       " 1000000,\n",
       " 4626960,\n",
       " 845059,\n",
       " 1074169,\n",
       " 6500000,\n",
       " 2144772,\n",
       " 525093,\n",
       " 3457800,\n",
       " 4582680,\n",
       " 947276,\n",
       " 2869440,\n",
       " 947276,\n",
       " 525093,\n",
       " 13600000,\n",
       " 10050000,\n",
       " 2500000,\n",
       " 7000000,\n",
       " 12000000,\n",
       " 6268675,\n",
       " 650000,\n",
       " 3553917,\n",
       " 245177,\n",
       " 1509360,\n",
       " 3873398,\n",
       " 13800000,\n",
       " 947276,\n",
       " 11370786,\n",
       " 2008748,\n",
       " 14260870,\n",
       " 11710456,\n",
       " 1131960,\n",
       " 845059,\n",
       " 1270964,\n",
       " 3815000,\n",
       " 15501000,\n",
       " 1100602,\n",
       " 111444,\n",
       " 5675000,\n",
       " 525093,\n",
       " 9650000,\n",
       " 18907726,\n",
       " 1100602,\n",
       " 19689000,\n",
       " 947276,\n",
       " 21468695,\n",
       " 3376000,\n",
       " 7085000,\n",
       " 3110796,\n",
       " 1159680,\n",
       " 3000000,\n",
       " 845059,\n",
       " 700000,\n",
       " 845059,\n",
       " 15592217,\n",
       " 1724250,\n",
       " 1155600,\n",
       " 3132240,\n",
       " 5103120,\n",
       " 981348,\n",
       " 947276,\n",
       " 5219169,\n",
       " 13500000,\n",
       " 2127840,\n",
       " 206192,\n",
       " 1160160,\n",
       " 981348,\n",
       " 13500000,\n",
       " 3807120,\n",
       " 1035000,\n",
       " 55722,\n",
       " 947276,\n",
       " 5500000,\n",
       " 2041080,\n",
       " 83397,\n",
       " 981348,\n",
       " 1015421,\n",
       " 1449187,\n",
       " 3398280,\n",
       " 5013559,\n",
       " 15851950,\n",
       " 947276,\n",
       " 525093,\n",
       " 12403101,\n",
       " 7700000,\n",
       " 3156600,\n",
       " 845059,\n",
       " 9500000,\n",
       " 845059,\n",
       " 2250000,\n",
       " 16407500,\n",
       " 4500000,\n",
       " 8500000,\n",
       " 947276,\n",
       " 2380440,\n",
       " 1015421,\n",
       " 13400000,\n",
       " 1391160,\n",
       " 20093064,\n",
       " 1535880,\n",
       " 1147276,\n",
       " 8193029,\n",
       " 16407501,\n",
       " 947276,\n",
       " 947276,\n",
       " 1276000,\n",
       " 19689000,\n",
       " 111196,\n",
       " 8988765,\n",
       " 14260870,\n",
       " 2100000,\n",
       " 2500000,\n",
       " 6500000,\n",
       " 2170465,\n",
       " 111444,\n",
       " 1252440,\n",
       " 2891760,\n",
       " 845059,\n",
       " 3272091,\n",
       " 16000000,\n",
       " 600000,\n",
       " 13913044,\n",
       " 2841960,\n",
       " 6270000,\n",
       " 5000000,\n",
       " 3000000,\n",
       " 4050000,\n",
       " 1007026,\n",
       " 17120106,\n",
       " 8000000,\n",
       " 4000000,\n",
       " 1358880,\n",
       " 211744,\n",
       " 1100000,\n",
       " 7000000,\n",
       " 2357760,\n",
       " 845059,\n",
       " 1007026,\n",
       " 3000000,\n",
       " 2399040,\n",
       " 947276,\n",
       " 1662360,\n",
       " 2943221,\n",
       " 8000000,\n",
       " 14700000,\n",
       " 16407500,\n",
       " 295327,\n",
       " 845059,\n",
       " 5152440,\n",
       " 2109294,\n",
       " 6600000,\n",
       " 1733040,\n",
       " 1449000,\n",
       " 4290000,\n",
       " 1100602,\n",
       " 3950313,\n",
       " 4053446,\n",
       " 2085671,\n",
       " 16407500,\n",
       " 1270964,\n",
       " 15361500,\n",
       " 845059,\n",
       " 947276,\n",
       " 5378974,\n",
       " 8193030,\n",
       " 306527,\n",
       " 6486486,\n",
       " 8229375,\n",
       " 1646400,\n",
       " 200600,\n",
       " 15756438,\n",
       " 1000000,\n",
       " 2489530,\n",
       " 3189794,\n",
       " 947276,\n",
       " 1404600,\n",
       " 5158539,\n",
       " 5000000,\n",
       " 3542500,\n",
       " 4088019,\n",
       " 9588426,\n",
       " 700902,\n",
       " 845059,\n",
       " 1201440,\n",
       " 1230840,\n",
       " 9638555,\n",
       " 9000000,\n",
       " 5464000,\n",
       " 8500000,\n",
       " 1100602,\n",
       " 3036927,\n",
       " 2850000,\n",
       " 7070730,\n",
       " 169883,\n",
       " 1164858,\n",
       " 845059,\n",
       " 10734586,\n",
       " 845059,\n",
       " 1320000,\n",
       " 15514031,\n",
       " 1015421,\n",
       " 10595507,\n",
       " 55722,\n",
       " 3382023,\n",
       " 19689000,\n",
       " 1142880,\n",
       " 947276,\n",
       " 5250000,\n",
       " 10000000,\n",
       " 16407500,\n",
       " 200600,\n",
       " 250750,\n",
       " 3578947,\n",
       " 525093,\n",
       " 1499187,\n",
       " 2000000,\n",
       " 1304520,\n",
       " 2854940,\n",
       " 12000000,\n",
       " 1000000,\n",
       " 5746479,\n",
       " 18671659,\n",
       " 947276,\n",
       " 525093,\n",
       " 3333333,\n",
       " 8000000,\n",
       " 947276,\n",
       " 189455,\n",
       " 947276,\n",
       " 525093,\n",
       " 6110034,\n",
       " 2612520,\n",
       " 6331404,\n",
       " 3034356,\n",
       " 5675000,\n",
       " 2139000,\n",
       " 12000000,\n",
       " 7000000,\n",
       " 4204200,\n",
       " 22192730,\n",
       " 10151612,\n",
       " 2854940,\n",
       " 261894,\n",
       " 845059,\n",
       " 5543725,\n",
       " 525093,\n",
       " 20000000,\n",
       " 981348,\n",
       " 2481720,\n",
       " 947276,\n",
       " 4171680,\n",
       " 845059,\n",
       " 1294440,\n",
       " 2380593,\n",
       " 5192520,\n",
       " 2505720,\n",
       " 4300000,\n",
       " 11250000,\n",
       " 5000000,\n",
       " 4000000,\n",
       " 5694674,\n",
       " 4375000,\n",
       " 561716,\n",
       " 3300000,\n",
       " 273038,\n",
       " 8000000,\n",
       " 1920240,\n",
       " 4662960,\n",
       " 2170465,\n",
       " 1100602,\n",
       " 200600,\n",
       " 15851950,\n",
       " 2814000,\n",
       " 3000000,\n",
       " 3533333,\n",
       " 10449438,\n",
       " 11235955,\n",
       " 1584480,\n",
       " 947276,\n",
       " 4345000,\n",
       " 258489,\n",
       " 1474440,\n",
       " 1282080,\n",
       " 2148360,\n",
       " 2056920,\n",
       " 1938840,\n",
       " 947276,\n",
       " 5703600,\n",
       " 5758680,\n",
       " 2279040,\n",
       " 3750000,\n",
       " 20158622,\n",
       " 3135000,\n",
       " 1140240,\n",
       " 16407500,\n",
       " 1463040,\n",
       " 222888,\n",
       " 3344000,\n",
       " 2021520,\n",
       " 1210800,\n",
       " 4500000,\n",
       " 5138430,\n",
       " 16744218,\n",
       " 525093,\n",
       " 8042895,\n",
       " 625093,\n",
       " 947276,\n",
       " 6980802,\n",
       " 2894059,\n",
       " 6000000,\n",
       " 5016000,\n",
       " 3075880,\n",
       " 4236287,\n",
       " 2525160,\n",
       " 525093,\n",
       " 1415520,\n",
       " 2854940,\n",
       " 2637720,\n",
       " 4775000,\n",
       " 2658240,\n",
       " 9463484,\n",
       " 12000000,\n",
       " 15409570,\n",
       " 1348440,\n",
       " 981348,\n",
       " 2239800,\n",
       " 2433333,\n",
       " 947276]"
      ]
     },
     "execution_count": 53,
     "metadata": {},
     "output_type": "execute_result"
    }
   ],
   "source": [
    "# storing dtype before operation \n",
    "dtype_before = type(data[\"Salary\"]) \n",
    "   \n",
    "# converting to list \n",
    "salary_list = data[\"Salary\"].tolist() \n",
    "   \n",
    "# storing dtype after operation \n",
    "dtype_after = type(salary_list) \n",
    "   \n",
    "# printing dtype \n",
    "print(\"Data type before converting = {}\\nData type after converting = {}\"\n",
    "      .format(dtype_before, dtype_after)) \n",
    "   \n",
    "# displaying list \n",
    "salary_list \n"
   ]
  },
  {
   "cell_type": "code",
   "execution_count": 54,
   "id": "00ff3814-de81-4ec0-a477-fc2f9ee29770",
   "metadata": {},
   "outputs": [
    {
     "name": "stdout",
     "output_type": "stream",
     "text": [
      "Series([], dtype: object)\n"
     ]
    }
   ],
   "source": [
    "ser=pd.Series()\n",
    "print(ser)"
   ]
  },
  {
   "cell_type": "code",
   "execution_count": 55,
   "id": "3d95e4ec-b889-4898-89e4-77fef9c3ac06",
   "metadata": {},
   "outputs": [
    {
     "name": "stdout",
     "output_type": "stream",
     "text": [
      "Geeks    10\n",
      "for      20\n",
      "geeks    30\n",
      "dtype: int64\n"
     ]
    }
   ],
   "source": [
    "# a simple dictionary\n",
    "dict = {'Geeks': 10,\n",
    "        'for': 20,\n",
    "        'geeks': 30}\n",
    " \n",
    "# create series from dictionary\n",
    "ser = pd.Series(dict)\n",
    " \n",
    "print(ser)"
   ]
  },
  {
   "cell_type": "code",
   "execution_count": 56,
   "id": "5388b6a6-21fb-423a-bf20-921a6c773a1e",
   "metadata": {},
   "outputs": [
    {
     "name": "stdout",
     "output_type": "stream",
     "text": [
      "0    10\n",
      "1    10\n",
      "2    10\n",
      "3    10\n",
      "4    10\n",
      "5    10\n",
      "dtype: int64\n"
     ]
    }
   ],
   "source": [
    "# giving a scalar value with index\n",
    "ser = pd.Series(10, index=[0, 1, 2, 3, 4, 5])\n",
    " \n",
    "print(ser)"
   ]
  },
  {
   "cell_type": "code",
   "execution_count": 58,
   "id": "4bd501e1-34f4-4a32-a631-3e60d5859319",
   "metadata": {},
   "outputs": [
    {
     "data": {
      "text/plain": [
       "0    0\n",
       "1    1\n",
       "2    2\n",
       "3    3\n",
       "4    4\n",
       "5    5\n",
       "6    6\n",
       "7    7\n",
       "8    8\n",
       "9    9\n",
       "dtype: int32"
      ]
     },
     "execution_count": 58,
     "metadata": {},
     "output_type": "execute_result"
    }
   ],
   "source": [
    "ser=pd.Series(np.arange(10))\n",
    "ser"
   ]
  },
  {
   "cell_type": "code",
   "execution_count": 59,
   "id": "b4b5c7cc-9867-421f-9d0d-5d0266d64796",
   "metadata": {},
   "outputs": [
    {
     "name": "stdout",
     "output_type": "stream",
     "text": [
      "0     3.0\n",
      "1    18.0\n",
      "2    33.0\n",
      "dtype: float64\n"
     ]
    }
   ],
   "source": [
    "# series with numpy linspace()\n",
    "ser1 = pd.Series(np.linspace(3, 33, 3))\n",
    "print(ser1)"
   ]
  },
  {
   "cell_type": "code",
   "execution_count": 60,
   "id": "77ee2a2e-a738-4551-95ca-6fdc17f16712",
   "metadata": {},
   "outputs": [
    {
     "data": {
      "text/plain": [
       "0    0\n",
       "1    1\n",
       "2    2\n",
       "3    3\n",
       "4    4\n",
       "5    5\n",
       "6    6\n",
       "7    7\n",
       "8    8\n",
       "9    9\n",
       "dtype: int64"
      ]
     },
     "execution_count": 60,
     "metadata": {},
     "output_type": "execute_result"
    }
   ],
   "source": [
    "ser=pd.Series([x for x in range(10)])\n",
    "ser"
   ]
  },
  {
   "cell_type": "code",
   "execution_count": 66,
   "id": "f7d80258-0be9-42a1-a1e3-8b78ec76d58d",
   "metadata": {},
   "outputs": [
    {
     "data": {
      "text/plain": [
       "array([10, 11, 12, 13, 14])"
      ]
     },
     "execution_count": 66,
     "metadata": {},
     "output_type": "execute_result"
    }
   ],
   "source": [
    "ser=np.arange(10,15)\n",
    "ser"
   ]
  },
  {
   "cell_type": "code",
   "execution_count": 67,
   "id": "56742315-b367-46e7-9e76-afcd77776dfb",
   "metadata": {},
   "outputs": [
    {
     "data": {
      "text/plain": [
       "10    50\n",
       "11    55\n",
       "12    60\n",
       "13    65\n",
       "14    70\n",
       "dtype: int32"
      ]
     },
     "execution_count": 67,
     "metadata": {},
     "output_type": "execute_result"
    }
   ],
   "source": [
    "ser_mul=pd.Series(data=ser*5,index=ser)\n",
    "ser_mul"
   ]
  },
  {
   "cell_type": "code",
   "execution_count": null,
   "id": "6dbfc2ac-42b0-4889-ada4-c5df7cfa5186",
   "metadata": {},
   "outputs": [],
   "source": []
  }
 ],
 "metadata": {
  "kernelspec": {
   "display_name": "Python 3 (ipykernel)",
   "language": "python",
   "name": "python3"
  },
  "language_info": {
   "codemirror_mode": {
    "name": "ipython",
    "version": 3
   },
   "file_extension": ".py",
   "mimetype": "text/x-python",
   "name": "python",
   "nbconvert_exporter": "python",
   "pygments_lexer": "ipython3",
   "version": "3.12.3"
  }
 },
 "nbformat": 4,
 "nbformat_minor": 5
}
