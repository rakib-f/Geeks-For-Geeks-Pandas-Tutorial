{
 "cells": [
  {
   "cell_type": "code",
   "execution_count": 1,
   "id": "fb7931c4-3076-4cdb-a655-25cdf2043700",
   "metadata": {},
   "outputs": [],
   "source": [
    "import pandas as pd\n",
    "import numpy as np"
   ]
  },
  {
   "cell_type": "code",
   "execution_count": 2,
   "id": "b01c4a78-4709-47c1-86f1-bdcde94253cd",
   "metadata": {},
   "outputs": [
    {
     "data": {
      "text/html": [
       "<div>\n",
       "<style scoped>\n",
       "    .dataframe tbody tr th:only-of-type {\n",
       "        vertical-align: middle;\n",
       "    }\n",
       "\n",
       "    .dataframe tbody tr th {\n",
       "        vertical-align: top;\n",
       "    }\n",
       "\n",
       "    .dataframe thead th {\n",
       "        text-align: right;\n",
       "    }\n",
       "</style>\n",
       "<table border=\"1\" class=\"dataframe\">\n",
       "  <thead>\n",
       "    <tr style=\"text-align: right;\">\n",
       "      <th></th>\n",
       "      <th>A</th>\n",
       "      <th>B</th>\n",
       "      <th>C</th>\n",
       "      <th>D</th>\n",
       "    </tr>\n",
       "  </thead>\n",
       "  <tbody>\n",
       "    <tr>\n",
       "      <th>0</th>\n",
       "      <td>1</td>\n",
       "      <td>1</td>\n",
       "      <td>1</td>\n",
       "      <td>1</td>\n",
       "    </tr>\n",
       "    <tr>\n",
       "      <th>1</th>\n",
       "      <td>2</td>\n",
       "      <td>2</td>\n",
       "      <td>2</td>\n",
       "      <td>2</td>\n",
       "    </tr>\n",
       "    <tr>\n",
       "      <th>2</th>\n",
       "      <td>3</td>\n",
       "      <td>3</td>\n",
       "      <td>3</td>\n",
       "      <td>3</td>\n",
       "    </tr>\n",
       "    <tr>\n",
       "      <th>3</th>\n",
       "      <td>4</td>\n",
       "      <td>4</td>\n",
       "      <td>4</td>\n",
       "      <td>4</td>\n",
       "    </tr>\n",
       "    <tr>\n",
       "      <th>4</th>\n",
       "      <td>5</td>\n",
       "      <td>5</td>\n",
       "      <td>5</td>\n",
       "      <td>5</td>\n",
       "    </tr>\n",
       "  </tbody>\n",
       "</table>\n",
       "</div>"
      ],
      "text/plain": [
       "   A  B  C  D\n",
       "0  1  1  1  1\n",
       "1  2  2  2  2\n",
       "2  3  3  3  3\n",
       "3  4  4  4  4\n",
       "4  5  5  5  5"
      ]
     },
     "execution_count": 2,
     "metadata": {},
     "output_type": "execute_result"
    }
   ],
   "source": [
    "df = pd.DataFrame({'A':[1, 2, 3, 4, 5, 6, 7, 8],  \n",
    "                   'B':[1, 2, 3, 4, 5, 6, 7, 8],  \n",
    "                   'C':[1, 2, 3, 4, 5, 6, 7, 8], \n",
    "                   'D':[1, 2, 3, 4, 5, 6, 7, 8]}) \n",
    "  \n",
    "df.head()"
   ]
  },
  {
   "cell_type": "code",
   "execution_count": 4,
   "id": "2382ed41-4c5a-430d-833f-5de2f9c000be",
   "metadata": {},
   "outputs": [
    {
     "data": {
      "text/html": [
       "<style type=\"text/css\">\n",
       "#T_be66d th {\n",
       "  background: # 606060;\n",
       "  color: white;\n",
       "}\n",
       "#T_be66d td {\n",
       "  color: blue;\n",
       "}\n",
       "</style>\n",
       "<table id=\"T_be66d\">\n",
       "  <thead>\n",
       "    <tr>\n",
       "      <th class=\"blank level0\" >&nbsp;</th>\n",
       "      <th id=\"T_be66d_level0_col0\" class=\"col_heading level0 col0\" >A</th>\n",
       "      <th id=\"T_be66d_level0_col1\" class=\"col_heading level0 col1\" >B</th>\n",
       "      <th id=\"T_be66d_level0_col2\" class=\"col_heading level0 col2\" >C</th>\n",
       "      <th id=\"T_be66d_level0_col3\" class=\"col_heading level0 col3\" >D</th>\n",
       "    </tr>\n",
       "  </thead>\n",
       "  <tbody>\n",
       "    <tr>\n",
       "      <th id=\"T_be66d_level0_row0\" class=\"row_heading level0 row0\" >0</th>\n",
       "      <td id=\"T_be66d_row0_col0\" class=\"data row0 col0\" >1</td>\n",
       "      <td id=\"T_be66d_row0_col1\" class=\"data row0 col1\" >1</td>\n",
       "      <td id=\"T_be66d_row0_col2\" class=\"data row0 col2\" >1</td>\n",
       "      <td id=\"T_be66d_row0_col3\" class=\"data row0 col3\" >1</td>\n",
       "    </tr>\n",
       "    <tr>\n",
       "      <th id=\"T_be66d_level0_row1\" class=\"row_heading level0 row1\" >1</th>\n",
       "      <td id=\"T_be66d_row1_col0\" class=\"data row1 col0\" >2</td>\n",
       "      <td id=\"T_be66d_row1_col1\" class=\"data row1 col1\" >2</td>\n",
       "      <td id=\"T_be66d_row1_col2\" class=\"data row1 col2\" >2</td>\n",
       "      <td id=\"T_be66d_row1_col3\" class=\"data row1 col3\" >2</td>\n",
       "    </tr>\n",
       "    <tr>\n",
       "      <th id=\"T_be66d_level0_row2\" class=\"row_heading level0 row2\" >2</th>\n",
       "      <td id=\"T_be66d_row2_col0\" class=\"data row2 col0\" >3</td>\n",
       "      <td id=\"T_be66d_row2_col1\" class=\"data row2 col1\" >3</td>\n",
       "      <td id=\"T_be66d_row2_col2\" class=\"data row2 col2\" >3</td>\n",
       "      <td id=\"T_be66d_row2_col3\" class=\"data row2 col3\" >3</td>\n",
       "    </tr>\n",
       "    <tr>\n",
       "      <th id=\"T_be66d_level0_row3\" class=\"row_heading level0 row3\" >3</th>\n",
       "      <td id=\"T_be66d_row3_col0\" class=\"data row3 col0\" >4</td>\n",
       "      <td id=\"T_be66d_row3_col1\" class=\"data row3 col1\" >4</td>\n",
       "      <td id=\"T_be66d_row3_col2\" class=\"data row3 col2\" >4</td>\n",
       "      <td id=\"T_be66d_row3_col3\" class=\"data row3 col3\" >4</td>\n",
       "    </tr>\n",
       "    <tr>\n",
       "      <th id=\"T_be66d_level0_row4\" class=\"row_heading level0 row4\" >4</th>\n",
       "      <td id=\"T_be66d_row4_col0\" class=\"data row4 col0\" >5</td>\n",
       "      <td id=\"T_be66d_row4_col1\" class=\"data row4 col1\" >5</td>\n",
       "      <td id=\"T_be66d_row4_col2\" class=\"data row4 col2\" >5</td>\n",
       "      <td id=\"T_be66d_row4_col3\" class=\"data row4 col3\" >5</td>\n",
       "    </tr>\n",
       "    <tr>\n",
       "      <th id=\"T_be66d_level0_row5\" class=\"row_heading level0 row5\" >5</th>\n",
       "      <td id=\"T_be66d_row5_col0\" class=\"data row5 col0\" >6</td>\n",
       "      <td id=\"T_be66d_row5_col1\" class=\"data row5 col1\" >6</td>\n",
       "      <td id=\"T_be66d_row5_col2\" class=\"data row5 col2\" >6</td>\n",
       "      <td id=\"T_be66d_row5_col3\" class=\"data row5 col3\" >6</td>\n",
       "    </tr>\n",
       "    <tr>\n",
       "      <th id=\"T_be66d_level0_row6\" class=\"row_heading level0 row6\" >6</th>\n",
       "      <td id=\"T_be66d_row6_col0\" class=\"data row6 col0\" >7</td>\n",
       "      <td id=\"T_be66d_row6_col1\" class=\"data row6 col1\" >7</td>\n",
       "      <td id=\"T_be66d_row6_col2\" class=\"data row6 col2\" >7</td>\n",
       "      <td id=\"T_be66d_row6_col3\" class=\"data row6 col3\" >7</td>\n",
       "    </tr>\n",
       "    <tr>\n",
       "      <th id=\"T_be66d_level0_row7\" class=\"row_heading level0 row7\" >7</th>\n",
       "      <td id=\"T_be66d_row7_col0\" class=\"data row7 col0\" >8</td>\n",
       "      <td id=\"T_be66d_row7_col1\" class=\"data row7 col1\" >8</td>\n",
       "      <td id=\"T_be66d_row7_col2\" class=\"data row7 col2\" >8</td>\n",
       "      <td id=\"T_be66d_row7_col3\" class=\"data row7 col3\" >8</td>\n",
       "    </tr>\n",
       "  </tbody>\n",
       "</table>\n"
      ],
      "text/plain": [
       "<pandas.io.formats.style.Styler at 0x25082812120>"
      ]
     },
     "execution_count": 4,
     "metadata": {},
     "output_type": "execute_result"
    }
   ],
   "source": [
    "df.style.set_table_styles(\n",
    "    [\n",
    "        {'selector': 'th',\n",
    "        'props': [('background', '# 606060'), ('color','white')]},\n",
    "        {'selector': 'td', \n",
    "        'props': [('color','blue')]}\n",
    "    ]\n",
    ")"
   ]
  },
  {
   "cell_type": "code",
   "execution_count": 5,
   "id": "d7a6aca6-5ffc-4ffa-97a6-de0b95426e29",
   "metadata": {},
   "outputs": [
    {
     "ename": "AttributeError",
     "evalue": "'Styler' object has no attribute 'hide_index'",
     "output_type": "error",
     "traceback": [
      "\u001b[1;31m---------------------------------------------------------------------------\u001b[0m",
      "\u001b[1;31mAttributeError\u001b[0m                            Traceback (most recent call last)",
      "Cell \u001b[1;32mIn[5], line 8\u001b[0m\n\u001b[0;32m      1\u001b[0m \u001b[43mdf\u001b[49m\u001b[38;5;241;43m.\u001b[39;49m\u001b[43mstyle\u001b[49m\u001b[38;5;241;43m.\u001b[39;49m\u001b[43mset_table_styles\u001b[49m\u001b[43m(\u001b[49m\n\u001b[0;32m      2\u001b[0m \u001b[43m    \u001b[49m\u001b[43m[\u001b[49m\n\u001b[0;32m      3\u001b[0m \u001b[43m        \u001b[49m\u001b[43m{\u001b[49m\u001b[38;5;124;43m'\u001b[39;49m\u001b[38;5;124;43mselector\u001b[39;49m\u001b[38;5;124;43m'\u001b[39;49m\u001b[43m:\u001b[49m\u001b[43m \u001b[49m\u001b[38;5;124;43m'\u001b[39;49m\u001b[38;5;124;43mth\u001b[39;49m\u001b[38;5;124;43m'\u001b[39;49m\u001b[43m,\u001b[49m\n\u001b[0;32m      4\u001b[0m \u001b[43m        \u001b[49m\u001b[38;5;124;43m'\u001b[39;49m\u001b[38;5;124;43mprops\u001b[39;49m\u001b[38;5;124;43m'\u001b[39;49m\u001b[43m:\u001b[49m\u001b[43m \u001b[49m\u001b[43m[\u001b[49m\u001b[43m(\u001b[49m\u001b[38;5;124;43m'\u001b[39;49m\u001b[38;5;124;43mbackground\u001b[39;49m\u001b[38;5;124;43m'\u001b[39;49m\u001b[43m,\u001b[49m\u001b[43m \u001b[49m\u001b[38;5;124;43m'\u001b[39;49m\u001b[38;5;124;43m# 606060\u001b[39;49m\u001b[38;5;124;43m'\u001b[39;49m\u001b[43m)\u001b[49m\u001b[43m,\u001b[49m\u001b[43m \u001b[49m\u001b[43m(\u001b[49m\u001b[38;5;124;43m'\u001b[39;49m\u001b[38;5;124;43mcolor\u001b[39;49m\u001b[38;5;124;43m'\u001b[39;49m\u001b[43m,\u001b[49m\u001b[38;5;124;43m'\u001b[39;49m\u001b[38;5;124;43mwhite\u001b[39;49m\u001b[38;5;124;43m'\u001b[39;49m\u001b[43m)\u001b[49m\u001b[43m]\u001b[49m\u001b[43m}\u001b[49m\u001b[43m,\u001b[49m\n\u001b[0;32m      5\u001b[0m \u001b[43m        \u001b[49m\u001b[43m{\u001b[49m\u001b[38;5;124;43m'\u001b[39;49m\u001b[38;5;124;43mselector\u001b[39;49m\u001b[38;5;124;43m'\u001b[39;49m\u001b[43m:\u001b[49m\u001b[43m \u001b[49m\u001b[38;5;124;43m'\u001b[39;49m\u001b[38;5;124;43mtd\u001b[39;49m\u001b[38;5;124;43m'\u001b[39;49m\u001b[43m,\u001b[49m\u001b[43m \u001b[49m\n\u001b[0;32m      6\u001b[0m \u001b[43m        \u001b[49m\u001b[38;5;124;43m'\u001b[39;49m\u001b[38;5;124;43mprops\u001b[39;49m\u001b[38;5;124;43m'\u001b[39;49m\u001b[43m:\u001b[49m\u001b[43m \u001b[49m\u001b[43m[\u001b[49m\u001b[43m(\u001b[49m\u001b[38;5;124;43m'\u001b[39;49m\u001b[38;5;124;43mcolor\u001b[39;49m\u001b[38;5;124;43m'\u001b[39;49m\u001b[43m,\u001b[49m\u001b[38;5;124;43m'\u001b[39;49m\u001b[38;5;124;43mblue\u001b[39;49m\u001b[38;5;124;43m'\u001b[39;49m\u001b[43m)\u001b[49m\u001b[43m]\u001b[49m\u001b[43m}\u001b[49m\n\u001b[0;32m      7\u001b[0m \u001b[43m    \u001b[49m\u001b[43m]\u001b[49m\n\u001b[1;32m----> 8\u001b[0m \u001b[43m)\u001b[49m\u001b[38;5;241;43m.\u001b[39;49m\u001b[43mhide_index\u001b[49m()\n",
      "\u001b[1;31mAttributeError\u001b[0m: 'Styler' object has no attribute 'hide_index'"
     ]
    }
   ],
   "source": [
    "df.style.set_table_styles(\n",
    "    [\n",
    "        {'selector': 'th',\n",
    "        'props': [('background', '# 606060'), ('color','white')]},\n",
    "        {'selector': 'td', \n",
    "        'props': [('color','blue')]}\n",
    "    ]\n",
    ").hide_index()"
   ]
  },
  {
   "cell_type": "code",
   "execution_count": 6,
   "id": "d14216e8-cffa-4060-af4e-177e430039f3",
   "metadata": {},
   "outputs": [],
   "source": [
    "a = pd.read_csv('nba.csv')\n",
    "a.to_html('nba.htm')\n",
    "html_file = a.to_html()"
   ]
  },
  {
   "cell_type": "code",
   "execution_count": 8,
   "id": "ce23a4aa-e488-43c2-9cea-502947b5280b",
   "metadata": {},
   "outputs": [],
   "source": [
    "import matplotlib.pyplot as plt"
   ]
  },
  {
   "cell_type": "code",
   "execution_count": null,
   "id": "f7b235a7-afb1-4dc9-8cce-355d263a98b0",
   "metadata": {},
   "outputs": [],
   "source": []
  }
 ],
 "metadata": {
  "kernelspec": {
   "display_name": "Python 3 (ipykernel)",
   "language": "python",
   "name": "python3"
  },
  "language_info": {
   "codemirror_mode": {
    "name": "ipython",
    "version": 3
   },
   "file_extension": ".py",
   "mimetype": "text/x-python",
   "name": "python",
   "nbconvert_exporter": "python",
   "pygments_lexer": "ipython3",
   "version": "3.12.3"
  }
 },
 "nbformat": 4,
 "nbformat_minor": 5
}
