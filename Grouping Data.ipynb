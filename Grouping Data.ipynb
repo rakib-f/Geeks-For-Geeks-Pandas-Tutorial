{
 "cells": [
  {
   "cell_type": "code",
   "execution_count": 1,
   "id": "b34aa767-7efc-4d03-8bae-43fef30628ac",
   "metadata": {},
   "outputs": [
    {
     "name": "stdout",
     "output_type": "stream",
     "text": [
      "     Name  Age    Address Qualification\n",
      "0     Jai   27     Nagpur           Msc\n",
      "1    Anuj   24     Kanpur            MA\n",
      "2     Jai   22  Allahabad           MCA\n",
      "3  Princi   32    Kannuaj           Phd\n",
      "4  Gaurav   33    Jaunpur        B.Tech\n",
      "5    Anuj   36     Kanpur         B.com\n",
      "6  Princi   27  Allahabad           Msc\n",
      "7    Abhi   32    Aligarh            MA\n"
     ]
    }
   ],
   "source": [
    "# importing pandas module\n",
    "import pandas as pd \n",
    "import numpy as np\n",
    "\n",
    "# Define a dictionary containing employee data \n",
    "data1 = {'Name':['Jai', 'Anuj', 'Jai', 'Princi', \n",
    "\t\t\t\t'Gaurav', 'Anuj', 'Princi', 'Abhi'], \n",
    "\t\t'Age':[27, 24, 22, 32, \n",
    "\t\t\t33, 36, 27, 32], \n",
    "\t\t'Address':['Nagpur', 'Kanpur', 'Allahabad', 'Kannuaj',\n",
    "\t\t\t\t'Jaunpur', 'Kanpur', 'Allahabad', 'Aligarh'], \n",
    "\t\t'Qualification':['Msc', 'MA', 'MCA', 'Phd',\n",
    "\t\t\t\t\t\t'B.Tech', 'B.com', 'Msc', 'MA']} \n",
    "\t\n",
    "\n",
    "# Convert the dictionary into DataFrame \n",
    "df = pd.DataFrame(data1)\n",
    "\n",
    "print(df) \n"
   ]
  },
  {
   "cell_type": "code",
   "execution_count": 2,
   "id": "370505b0-8972-4fd6-8d72-981e878101bf",
   "metadata": {},
   "outputs": [
    {
     "name": "stdout",
     "output_type": "stream",
     "text": [
      "{'Abhi': [7], 'Anuj': [1, 5], 'Gaurav': [4], 'Jai': [0, 2], 'Princi': [3, 6]}\n"
     ]
    }
   ],
   "source": [
    "# using groupby function\n",
    "# with one key\n",
    "\n",
    "df.groupby('Name')\n",
    "print(df.groupby('Name').groups)\n"
   ]
  },
  {
   "cell_type": "code",
   "execution_count": 3,
   "id": "5a598555-503b-414c-82f4-887b38d17f27",
   "metadata": {},
   "outputs": [
    {
     "data": {
      "text/html": [
       "<div>\n",
       "<style scoped>\n",
       "    .dataframe tbody tr th:only-of-type {\n",
       "        vertical-align: middle;\n",
       "    }\n",
       "\n",
       "    .dataframe tbody tr th {\n",
       "        vertical-align: top;\n",
       "    }\n",
       "\n",
       "    .dataframe thead th {\n",
       "        text-align: right;\n",
       "    }\n",
       "</style>\n",
       "<table border=\"1\" class=\"dataframe\">\n",
       "  <thead>\n",
       "    <tr style=\"text-align: right;\">\n",
       "      <th></th>\n",
       "      <th>Age</th>\n",
       "      <th>Address</th>\n",
       "      <th>Qualification</th>\n",
       "    </tr>\n",
       "    <tr>\n",
       "      <th>Name</th>\n",
       "      <th></th>\n",
       "      <th></th>\n",
       "      <th></th>\n",
       "    </tr>\n",
       "  </thead>\n",
       "  <tbody>\n",
       "    <tr>\n",
       "      <th>Abhi</th>\n",
       "      <td>32</td>\n",
       "      <td>Aligarh</td>\n",
       "      <td>MA</td>\n",
       "    </tr>\n",
       "    <tr>\n",
       "      <th>Anuj</th>\n",
       "      <td>24</td>\n",
       "      <td>Kanpur</td>\n",
       "      <td>MA</td>\n",
       "    </tr>\n",
       "    <tr>\n",
       "      <th>Gaurav</th>\n",
       "      <td>33</td>\n",
       "      <td>Jaunpur</td>\n",
       "      <td>B.Tech</td>\n",
       "    </tr>\n",
       "    <tr>\n",
       "      <th>Jai</th>\n",
       "      <td>27</td>\n",
       "      <td>Nagpur</td>\n",
       "      <td>Msc</td>\n",
       "    </tr>\n",
       "    <tr>\n",
       "      <th>Princi</th>\n",
       "      <td>32</td>\n",
       "      <td>Kannuaj</td>\n",
       "      <td>Phd</td>\n",
       "    </tr>\n",
       "  </tbody>\n",
       "</table>\n",
       "</div>"
      ],
      "text/plain": [
       "        Age  Address Qualification\n",
       "Name                              \n",
       "Abhi     32  Aligarh            MA\n",
       "Anuj     24   Kanpur            MA\n",
       "Gaurav   33  Jaunpur        B.Tech\n",
       "Jai      27   Nagpur           Msc\n",
       "Princi   32  Kannuaj           Phd"
      ]
     },
     "execution_count": 3,
     "metadata": {},
     "output_type": "execute_result"
    }
   ],
   "source": [
    "# applying groupby() function to \n",
    "# group the data on Name value. \n",
    "gk = df.groupby('Name') \n",
    "\n",
    "# Let's print the first entries \n",
    "# in all the groups formed. \n",
    "gk.first() \n"
   ]
  },
  {
   "cell_type": "code",
   "execution_count": 4,
   "id": "744a1aa6-f561-4463-b904-18e1ed8cd3ce",
   "metadata": {},
   "outputs": [
    {
     "name": "stdout",
     "output_type": "stream",
     "text": [
      "{('Abhi', 'MA'): [7], ('Anuj', 'B.com'): [5], ('Anuj', 'MA'): [1], ('Gaurav', 'B.Tech'): [4], ('Jai', 'MCA'): [2], ('Jai', 'Msc'): [0], ('Princi', 'Msc'): [6], ('Princi', 'Phd'): [3]}\n"
     ]
    }
   ],
   "source": [
    "# Using multiple keys in\n",
    "# groupby() function\n",
    "df.groupby(['Name', 'Qualification'])\n",
    "\n",
    "print(df.groupby(['Name', 'Qualification']).groups)\n"
   ]
  },
  {
   "cell_type": "code",
   "execution_count": 5,
   "id": "f0765333-5252-49e7-b8ad-920f2d92f1fe",
   "metadata": {},
   "outputs": [
    {
     "data": {
      "text/html": [
       "<div>\n",
       "<style scoped>\n",
       "    .dataframe tbody tr th:only-of-type {\n",
       "        vertical-align: middle;\n",
       "    }\n",
       "\n",
       "    .dataframe tbody tr th {\n",
       "        vertical-align: top;\n",
       "    }\n",
       "\n",
       "    .dataframe thead th {\n",
       "        text-align: right;\n",
       "    }\n",
       "</style>\n",
       "<table border=\"1\" class=\"dataframe\">\n",
       "  <thead>\n",
       "    <tr style=\"text-align: right;\">\n",
       "      <th></th>\n",
       "      <th>Age</th>\n",
       "      <th>Address</th>\n",
       "      <th>Qualification</th>\n",
       "    </tr>\n",
       "    <tr>\n",
       "      <th>Name</th>\n",
       "      <th></th>\n",
       "      <th></th>\n",
       "      <th></th>\n",
       "    </tr>\n",
       "  </thead>\n",
       "  <tbody>\n",
       "    <tr>\n",
       "      <th>Abhi</th>\n",
       "      <td>32</td>\n",
       "      <td>Aligarh</td>\n",
       "      <td>MA</td>\n",
       "    </tr>\n",
       "    <tr>\n",
       "      <th>Anuj</th>\n",
       "      <td>60</td>\n",
       "      <td>KanpurKanpur</td>\n",
       "      <td>MAB.com</td>\n",
       "    </tr>\n",
       "    <tr>\n",
       "      <th>Gaurav</th>\n",
       "      <td>33</td>\n",
       "      <td>Jaunpur</td>\n",
       "      <td>B.Tech</td>\n",
       "    </tr>\n",
       "    <tr>\n",
       "      <th>Jai</th>\n",
       "      <td>49</td>\n",
       "      <td>NagpurAllahabad</td>\n",
       "      <td>MscMCA</td>\n",
       "    </tr>\n",
       "    <tr>\n",
       "      <th>Princi</th>\n",
       "      <td>59</td>\n",
       "      <td>KannuajAllahabad</td>\n",
       "      <td>PhdMsc</td>\n",
       "    </tr>\n",
       "  </tbody>\n",
       "</table>\n",
       "</div>"
      ],
      "text/plain": [
       "        Age           Address Qualification\n",
       "Name                                       \n",
       "Abhi     32           Aligarh            MA\n",
       "Anuj     60      KanpurKanpur       MAB.com\n",
       "Gaurav   33           Jaunpur        B.Tech\n",
       "Jai      49   NagpurAllahabad        MscMCA\n",
       "Princi   59  KannuajAllahabad        PhdMsc"
      ]
     },
     "execution_count": 5,
     "metadata": {},
     "output_type": "execute_result"
    }
   ],
   "source": [
    "df.groupby(['Name']).sum()"
   ]
  },
  {
   "cell_type": "code",
   "execution_count": 6,
   "id": "02dd06ed-58cb-4a53-85c4-d435f5cc5590",
   "metadata": {},
   "outputs": [
    {
     "data": {
      "text/html": [
       "<div>\n",
       "<style scoped>\n",
       "    .dataframe tbody tr th:only-of-type {\n",
       "        vertical-align: middle;\n",
       "    }\n",
       "\n",
       "    .dataframe tbody tr th {\n",
       "        vertical-align: top;\n",
       "    }\n",
       "\n",
       "    .dataframe thead th {\n",
       "        text-align: right;\n",
       "    }\n",
       "</style>\n",
       "<table border=\"1\" class=\"dataframe\">\n",
       "  <thead>\n",
       "    <tr style=\"text-align: right;\">\n",
       "      <th></th>\n",
       "      <th>Age</th>\n",
       "      <th>Address</th>\n",
       "      <th>Qualification</th>\n",
       "    </tr>\n",
       "    <tr>\n",
       "      <th>Name</th>\n",
       "      <th></th>\n",
       "      <th></th>\n",
       "      <th></th>\n",
       "    </tr>\n",
       "  </thead>\n",
       "  <tbody>\n",
       "    <tr>\n",
       "      <th>Jai</th>\n",
       "      <td>49</td>\n",
       "      <td>NagpurAllahabad</td>\n",
       "      <td>MscMCA</td>\n",
       "    </tr>\n",
       "    <tr>\n",
       "      <th>Anuj</th>\n",
       "      <td>60</td>\n",
       "      <td>KanpurKanpur</td>\n",
       "      <td>MAB.com</td>\n",
       "    </tr>\n",
       "    <tr>\n",
       "      <th>Princi</th>\n",
       "      <td>59</td>\n",
       "      <td>KannuajAllahabad</td>\n",
       "      <td>PhdMsc</td>\n",
       "    </tr>\n",
       "    <tr>\n",
       "      <th>Gaurav</th>\n",
       "      <td>33</td>\n",
       "      <td>Jaunpur</td>\n",
       "      <td>B.Tech</td>\n",
       "    </tr>\n",
       "    <tr>\n",
       "      <th>Abhi</th>\n",
       "      <td>32</td>\n",
       "      <td>Aligarh</td>\n",
       "      <td>MA</td>\n",
       "    </tr>\n",
       "  </tbody>\n",
       "</table>\n",
       "</div>"
      ],
      "text/plain": [
       "        Age           Address Qualification\n",
       "Name                                       \n",
       "Jai      49   NagpurAllahabad        MscMCA\n",
       "Anuj     60      KanpurKanpur       MAB.com\n",
       "Princi   59  KannuajAllahabad        PhdMsc\n",
       "Gaurav   33           Jaunpur        B.Tech\n",
       "Abhi     32           Aligarh            MA"
      ]
     },
     "execution_count": 6,
     "metadata": {},
     "output_type": "execute_result"
    }
   ],
   "source": [
    "# using groupby function\n",
    "# with sort\n",
    "\n",
    "df.groupby(['Name'], sort = False).sum()\n"
   ]
  },
  {
   "cell_type": "code",
   "execution_count": 7,
   "id": "976a4f8b-df76-4d66-a2a8-76c3ee40102e",
   "metadata": {},
   "outputs": [
    {
     "data": {
      "text/plain": [
       "{'Abhi': [7], 'Anuj': [1, 5], 'Gaurav': [4], 'Jai': [0, 2], 'Princi': [3, 6]}"
      ]
     },
     "execution_count": 7,
     "metadata": {},
     "output_type": "execute_result"
    }
   ],
   "source": [
    "# using keys for grouping\n",
    "# data\n",
    "\n",
    "df.groupby('Name').groups"
   ]
  },
  {
   "cell_type": "code",
   "execution_count": 8,
   "id": "2b04f4c8-e10a-46ea-9b5f-d56cc8421fdf",
   "metadata": {},
   "outputs": [
    {
     "data": {
      "text/plain": [
       "<pandas.core.groupby.generic.DataFrameGroupBy object at 0x000001E32C8475F0>"
      ]
     },
     "execution_count": 8,
     "metadata": {},
     "output_type": "execute_result"
    }
   ],
   "source": [
    "grp = df.groupby('Name')\n",
    "grp"
   ]
  },
  {
   "cell_type": "code",
   "execution_count": 9,
   "id": "38695eb7-b867-448a-84b3-8659c4f46dcd",
   "metadata": {},
   "outputs": [
    {
     "name": "stdout",
     "output_type": "stream",
     "text": [
      "Abhi\n",
      "   Name  Age  Address Qualification\n",
      "7  Abhi   32  Aligarh            MA\n",
      "\n",
      "Anuj\n",
      "   Name  Age Address Qualification\n",
      "1  Anuj   24  Kanpur            MA\n",
      "5  Anuj   36  Kanpur         B.com\n",
      "\n",
      "Gaurav\n",
      "     Name  Age  Address Qualification\n",
      "4  Gaurav   33  Jaunpur        B.Tech\n",
      "\n",
      "Jai\n",
      "  Name  Age    Address Qualification\n",
      "0  Jai   27     Nagpur           Msc\n",
      "2  Jai   22  Allahabad           MCA\n",
      "\n",
      "Princi\n",
      "     Name  Age    Address Qualification\n",
      "3  Princi   32    Kannuaj           Phd\n",
      "6  Princi   27  Allahabad           Msc\n",
      "\n"
     ]
    }
   ],
   "source": [
    "for name, group in grp:\n",
    "    print(name)\n",
    "    print(group)\n",
    "    print()"
   ]
  },
  {
   "cell_type": "code",
   "execution_count": 10,
   "id": "2147e27e-d43b-411e-9e74-95df4fd628b7",
   "metadata": {},
   "outputs": [
    {
     "name": "stdout",
     "output_type": "stream",
     "text": [
      "('Abhi', 'MA')\n",
      "   Name  Age  Address Qualification\n",
      "7  Abhi   32  Aligarh            MA\n",
      "\n",
      "('Anuj', 'B.com')\n",
      "   Name  Age Address Qualification\n",
      "5  Anuj   36  Kanpur         B.com\n",
      "\n",
      "('Anuj', 'MA')\n",
      "   Name  Age Address Qualification\n",
      "1  Anuj   24  Kanpur            MA\n",
      "\n",
      "('Gaurav', 'B.Tech')\n",
      "     Name  Age  Address Qualification\n",
      "4  Gaurav   33  Jaunpur        B.Tech\n",
      "\n",
      "('Jai', 'MCA')\n",
      "  Name  Age    Address Qualification\n",
      "2  Jai   22  Allahabad           MCA\n",
      "\n",
      "('Jai', 'Msc')\n",
      "  Name  Age Address Qualification\n",
      "0  Jai   27  Nagpur           Msc\n",
      "\n",
      "('Princi', 'Msc')\n",
      "     Name  Age    Address Qualification\n",
      "6  Princi   27  Allahabad           Msc\n",
      "\n",
      "('Princi', 'Phd')\n",
      "     Name  Age  Address Qualification\n",
      "3  Princi   32  Kannuaj           Phd\n",
      "\n"
     ]
    }
   ],
   "source": [
    "# iterating an element\n",
    "# of group containing \n",
    "# multiple keys\n",
    "\n",
    "grp = df.groupby(['Name', 'Qualification'])\n",
    "for name, group in grp:\n",
    "\tprint(name)\n",
    "\tprint(group)\n",
    "\tprint()"
   ]
  },
  {
   "cell_type": "code",
   "execution_count": 11,
   "id": "a34c752d-e916-472a-bfee-64764f67f054",
   "metadata": {},
   "outputs": [
    {
     "data": {
      "text/html": [
       "<div>\n",
       "<style scoped>\n",
       "    .dataframe tbody tr th:only-of-type {\n",
       "        vertical-align: middle;\n",
       "    }\n",
       "\n",
       "    .dataframe tbody tr th {\n",
       "        vertical-align: top;\n",
       "    }\n",
       "\n",
       "    .dataframe thead th {\n",
       "        text-align: right;\n",
       "    }\n",
       "</style>\n",
       "<table border=\"1\" class=\"dataframe\">\n",
       "  <thead>\n",
       "    <tr style=\"text-align: right;\">\n",
       "      <th></th>\n",
       "      <th>Name</th>\n",
       "      <th>Age</th>\n",
       "      <th>Address</th>\n",
       "      <th>Qualification</th>\n",
       "    </tr>\n",
       "  </thead>\n",
       "  <tbody>\n",
       "    <tr>\n",
       "      <th>0</th>\n",
       "      <td>Jai</td>\n",
       "      <td>27</td>\n",
       "      <td>Nagpur</td>\n",
       "      <td>Msc</td>\n",
       "    </tr>\n",
       "    <tr>\n",
       "      <th>2</th>\n",
       "      <td>Jai</td>\n",
       "      <td>22</td>\n",
       "      <td>Allahabad</td>\n",
       "      <td>MCA</td>\n",
       "    </tr>\n",
       "  </tbody>\n",
       "</table>\n",
       "</div>"
      ],
      "text/plain": [
       "  Name  Age    Address Qualification\n",
       "0  Jai   27     Nagpur           Msc\n",
       "2  Jai   22  Allahabad           MCA"
      ]
     },
     "execution_count": 11,
     "metadata": {},
     "output_type": "execute_result"
    }
   ],
   "source": [
    "# selecting a single group\n",
    "\n",
    "grp = df.groupby('Name')\n",
    "grp.get_group('Jai')"
   ]
  },
  {
   "cell_type": "code",
   "execution_count": 12,
   "id": "5b93dab4-630b-47ae-8233-b583db4df812",
   "metadata": {},
   "outputs": [
    {
     "data": {
      "text/html": [
       "<div>\n",
       "<style scoped>\n",
       "    .dataframe tbody tr th:only-of-type {\n",
       "        vertical-align: middle;\n",
       "    }\n",
       "\n",
       "    .dataframe tbody tr th {\n",
       "        vertical-align: top;\n",
       "    }\n",
       "\n",
       "    .dataframe thead th {\n",
       "        text-align: right;\n",
       "    }\n",
       "</style>\n",
       "<table border=\"1\" class=\"dataframe\">\n",
       "  <thead>\n",
       "    <tr style=\"text-align: right;\">\n",
       "      <th></th>\n",
       "      <th>Name</th>\n",
       "      <th>Age</th>\n",
       "      <th>Address</th>\n",
       "      <th>Qualification</th>\n",
       "    </tr>\n",
       "  </thead>\n",
       "  <tbody>\n",
       "    <tr>\n",
       "      <th>0</th>\n",
       "      <td>Jai</td>\n",
       "      <td>27</td>\n",
       "      <td>Nagpur</td>\n",
       "      <td>Msc</td>\n",
       "    </tr>\n",
       "  </tbody>\n",
       "</table>\n",
       "</div>"
      ],
      "text/plain": [
       "  Name  Age Address Qualification\n",
       "0  Jai   27  Nagpur           Msc"
      ]
     },
     "execution_count": 12,
     "metadata": {},
     "output_type": "execute_result"
    }
   ],
   "source": [
    "# selecting object grouped\n",
    "# on multiple columns\n",
    "\n",
    "grp = df.groupby(['Name', 'Qualification'])\n",
    "grp.get_group(('Jai', 'Msc'))"
   ]
  },
  {
   "cell_type": "code",
   "execution_count": 13,
   "id": "919ad6a0-9e88-4791-b5a4-9efe4401c313",
   "metadata": {},
   "outputs": [
    {
     "name": "stderr",
     "output_type": "stream",
     "text": [
      "C:\\Users\\rfare\\AppData\\Local\\Temp\\ipykernel_7800\\69990182.py:6: FutureWarning: The provided callable <function sum at 0x000001E32B99BF60> is currently using DataFrameGroupBy.sum. In a future version of pandas, the provided callable will be used directly. To keep current behavior pass the string \"sum\" instead.\n",
      "  grp1.aggregate(np.sum)\n"
     ]
    },
    {
     "data": {
      "text/html": [
       "<div>\n",
       "<style scoped>\n",
       "    .dataframe tbody tr th:only-of-type {\n",
       "        vertical-align: middle;\n",
       "    }\n",
       "\n",
       "    .dataframe tbody tr th {\n",
       "        vertical-align: top;\n",
       "    }\n",
       "\n",
       "    .dataframe thead th {\n",
       "        text-align: right;\n",
       "    }\n",
       "</style>\n",
       "<table border=\"1\" class=\"dataframe\">\n",
       "  <thead>\n",
       "    <tr style=\"text-align: right;\">\n",
       "      <th></th>\n",
       "      <th>Age</th>\n",
       "      <th>Address</th>\n",
       "      <th>Qualification</th>\n",
       "    </tr>\n",
       "    <tr>\n",
       "      <th>Name</th>\n",
       "      <th></th>\n",
       "      <th></th>\n",
       "      <th></th>\n",
       "    </tr>\n",
       "  </thead>\n",
       "  <tbody>\n",
       "    <tr>\n",
       "      <th>Abhi</th>\n",
       "      <td>32</td>\n",
       "      <td>Aligarh</td>\n",
       "      <td>MA</td>\n",
       "    </tr>\n",
       "    <tr>\n",
       "      <th>Anuj</th>\n",
       "      <td>60</td>\n",
       "      <td>KanpurKanpur</td>\n",
       "      <td>MAB.com</td>\n",
       "    </tr>\n",
       "    <tr>\n",
       "      <th>Gaurav</th>\n",
       "      <td>33</td>\n",
       "      <td>Jaunpur</td>\n",
       "      <td>B.Tech</td>\n",
       "    </tr>\n",
       "    <tr>\n",
       "      <th>Jai</th>\n",
       "      <td>49</td>\n",
       "      <td>NagpurAllahabad</td>\n",
       "      <td>MscMCA</td>\n",
       "    </tr>\n",
       "    <tr>\n",
       "      <th>Princi</th>\n",
       "      <td>59</td>\n",
       "      <td>KannuajAllahabad</td>\n",
       "      <td>PhdMsc</td>\n",
       "    </tr>\n",
       "  </tbody>\n",
       "</table>\n",
       "</div>"
      ],
      "text/plain": [
       "        Age           Address Qualification\n",
       "Name                                       \n",
       "Abhi     32           Aligarh            MA\n",
       "Anuj     60      KanpurKanpur       MAB.com\n",
       "Gaurav   33           Jaunpur        B.Tech\n",
       "Jai      49   NagpurAllahabad        MscMCA\n",
       "Princi   59  KannuajAllahabad        PhdMsc"
      ]
     },
     "execution_count": 13,
     "metadata": {},
     "output_type": "execute_result"
    }
   ],
   "source": [
    "# performing aggregation using\n",
    "# aggregate method\n",
    "\n",
    "grp1 = df.groupby('Name')\n",
    "\n",
    "grp1.aggregate(np.sum)"
   ]
  },
  {
   "cell_type": "code",
   "execution_count": 15,
   "id": "2ee21407-2ebd-49ac-a24d-112ab264fa2f",
   "metadata": {},
   "outputs": [
    {
     "name": "stderr",
     "output_type": "stream",
     "text": [
      "C:\\Users\\rfare\\AppData\\Local\\Temp\\ipykernel_7800\\631276388.py:6: FutureWarning: The provided callable <function sum at 0x000001E32B99BF60> is currently using DataFrameGroupBy.sum. In a future version of pandas, the provided callable will be used directly. To keep current behavior pass the string \"sum\" instead.\n",
      "  grp1.aggregate(np.sum)\n"
     ]
    },
    {
     "data": {
      "text/html": [
       "<div>\n",
       "<style scoped>\n",
       "    .dataframe tbody tr th:only-of-type {\n",
       "        vertical-align: middle;\n",
       "    }\n",
       "\n",
       "    .dataframe tbody tr th {\n",
       "        vertical-align: top;\n",
       "    }\n",
       "\n",
       "    .dataframe thead th {\n",
       "        text-align: right;\n",
       "    }\n",
       "</style>\n",
       "<table border=\"1\" class=\"dataframe\">\n",
       "  <thead>\n",
       "    <tr style=\"text-align: right;\">\n",
       "      <th></th>\n",
       "      <th></th>\n",
       "      <th>Age</th>\n",
       "      <th>Address</th>\n",
       "    </tr>\n",
       "    <tr>\n",
       "      <th>Name</th>\n",
       "      <th>Qualification</th>\n",
       "      <th></th>\n",
       "      <th></th>\n",
       "    </tr>\n",
       "  </thead>\n",
       "  <tbody>\n",
       "    <tr>\n",
       "      <th>Abhi</th>\n",
       "      <th>MA</th>\n",
       "      <td>32</td>\n",
       "      <td>Aligarh</td>\n",
       "    </tr>\n",
       "    <tr>\n",
       "      <th rowspan=\"2\" valign=\"top\">Anuj</th>\n",
       "      <th>B.com</th>\n",
       "      <td>36</td>\n",
       "      <td>Kanpur</td>\n",
       "    </tr>\n",
       "    <tr>\n",
       "      <th>MA</th>\n",
       "      <td>24</td>\n",
       "      <td>Kanpur</td>\n",
       "    </tr>\n",
       "    <tr>\n",
       "      <th>Gaurav</th>\n",
       "      <th>B.Tech</th>\n",
       "      <td>33</td>\n",
       "      <td>Jaunpur</td>\n",
       "    </tr>\n",
       "    <tr>\n",
       "      <th rowspan=\"2\" valign=\"top\">Jai</th>\n",
       "      <th>MCA</th>\n",
       "      <td>22</td>\n",
       "      <td>Allahabad</td>\n",
       "    </tr>\n",
       "    <tr>\n",
       "      <th>Msc</th>\n",
       "      <td>27</td>\n",
       "      <td>Nagpur</td>\n",
       "    </tr>\n",
       "    <tr>\n",
       "      <th rowspan=\"2\" valign=\"top\">Princi</th>\n",
       "      <th>Msc</th>\n",
       "      <td>27</td>\n",
       "      <td>Allahabad</td>\n",
       "    </tr>\n",
       "    <tr>\n",
       "      <th>Phd</th>\n",
       "      <td>32</td>\n",
       "      <td>Kannuaj</td>\n",
       "    </tr>\n",
       "  </tbody>\n",
       "</table>\n",
       "</div>"
      ],
      "text/plain": [
       "                      Age    Address\n",
       "Name   Qualification                \n",
       "Abhi   MA              32    Aligarh\n",
       "Anuj   B.com           36     Kanpur\n",
       "       MA              24     Kanpur\n",
       "Gaurav B.Tech          33    Jaunpur\n",
       "Jai    MCA             22  Allahabad\n",
       "       Msc             27     Nagpur\n",
       "Princi Msc             27  Allahabad\n",
       "       Phd             32    Kannuaj"
      ]
     },
     "execution_count": 15,
     "metadata": {},
     "output_type": "execute_result"
    }
   ],
   "source": [
    "# performing aggregation on\n",
    "# group containing multiple\n",
    "# keys\n",
    "grp1 = df.groupby(['Name', 'Qualification'])\n",
    "\n",
    "grp1.aggregate(np.sum)"
   ]
  },
  {
   "cell_type": "code",
   "execution_count": 16,
   "id": "ab532305-8a43-4680-8f01-09776535b171",
   "metadata": {},
   "outputs": [
    {
     "name": "stderr",
     "output_type": "stream",
     "text": [
      "C:\\Users\\rfare\\AppData\\Local\\Temp\\ipykernel_7800\\3832254242.py:2: FutureWarning: The provided callable <function sum at 0x000001E32B99BF60> is currently using SeriesGroupBy.sum. In a future version of pandas, the provided callable will be used directly. To keep current behavior pass the string \"sum\" instead.\n",
      "  grp['Age'].agg([np.sum, np.mean, np.std])\n",
      "C:\\Users\\rfare\\AppData\\Local\\Temp\\ipykernel_7800\\3832254242.py:2: FutureWarning: The provided callable <function mean at 0x000001E32B9C9080> is currently using SeriesGroupBy.mean. In a future version of pandas, the provided callable will be used directly. To keep current behavior pass the string \"mean\" instead.\n",
      "  grp['Age'].agg([np.sum, np.mean, np.std])\n",
      "C:\\Users\\rfare\\AppData\\Local\\Temp\\ipykernel_7800\\3832254242.py:2: FutureWarning: The provided callable <function std at 0x000001E32B9C91C0> is currently using SeriesGroupBy.std. In a future version of pandas, the provided callable will be used directly. To keep current behavior pass the string \"std\" instead.\n",
      "  grp['Age'].agg([np.sum, np.mean, np.std])\n"
     ]
    },
    {
     "data": {
      "text/html": [
       "<div>\n",
       "<style scoped>\n",
       "    .dataframe tbody tr th:only-of-type {\n",
       "        vertical-align: middle;\n",
       "    }\n",
       "\n",
       "    .dataframe tbody tr th {\n",
       "        vertical-align: top;\n",
       "    }\n",
       "\n",
       "    .dataframe thead th {\n",
       "        text-align: right;\n",
       "    }\n",
       "</style>\n",
       "<table border=\"1\" class=\"dataframe\">\n",
       "  <thead>\n",
       "    <tr style=\"text-align: right;\">\n",
       "      <th></th>\n",
       "      <th>sum</th>\n",
       "      <th>mean</th>\n",
       "      <th>std</th>\n",
       "    </tr>\n",
       "    <tr>\n",
       "      <th>Name</th>\n",
       "      <th></th>\n",
       "      <th></th>\n",
       "      <th></th>\n",
       "    </tr>\n",
       "  </thead>\n",
       "  <tbody>\n",
       "    <tr>\n",
       "      <th>Abhi</th>\n",
       "      <td>32</td>\n",
       "      <td>32.0</td>\n",
       "      <td>NaN</td>\n",
       "    </tr>\n",
       "    <tr>\n",
       "      <th>Anuj</th>\n",
       "      <td>60</td>\n",
       "      <td>30.0</td>\n",
       "      <td>8.485281</td>\n",
       "    </tr>\n",
       "    <tr>\n",
       "      <th>Gaurav</th>\n",
       "      <td>33</td>\n",
       "      <td>33.0</td>\n",
       "      <td>NaN</td>\n",
       "    </tr>\n",
       "    <tr>\n",
       "      <th>Jai</th>\n",
       "      <td>49</td>\n",
       "      <td>24.5</td>\n",
       "      <td>3.535534</td>\n",
       "    </tr>\n",
       "    <tr>\n",
       "      <th>Princi</th>\n",
       "      <td>59</td>\n",
       "      <td>29.5</td>\n",
       "      <td>3.535534</td>\n",
       "    </tr>\n",
       "  </tbody>\n",
       "</table>\n",
       "</div>"
      ],
      "text/plain": [
       "        sum  mean       std\n",
       "Name                       \n",
       "Abhi     32  32.0       NaN\n",
       "Anuj     60  30.0  8.485281\n",
       "Gaurav   33  33.0       NaN\n",
       "Jai      49  24.5  3.535534\n",
       "Princi   59  29.5  3.535534"
      ]
     },
     "execution_count": 16,
     "metadata": {},
     "output_type": "execute_result"
    }
   ],
   "source": [
    "grp = df.groupby('Name')\n",
    "grp['Age'].agg([np.sum, np.mean, np.std])"
   ]
  },
  {
   "cell_type": "code",
   "execution_count": 18,
   "id": "cf8d4ea5-f0ce-428d-855b-84287866b70d",
   "metadata": {},
   "outputs": [
    {
     "name": "stdout",
     "output_type": "stream",
     "text": [
      "     Name  Age    Address Qualification  Score\n",
      "0     Jai   27     Nagpur           Msc     23\n",
      "1    Anuj   24     Kanpur            MA     34\n",
      "2     Jai   22  Allahabad           MCA     35\n",
      "3  Princi   32    Kannuaj           Phd     45\n",
      "4  Gaurav   33    Jaunpur        B.Tech     47\n",
      "5    Anuj   36     Kanpur         B.com     50\n",
      "6  Princi   27  Allahabad           Msc     52\n",
      "7    Abhi   32    Aligarh            MA     53\n"
     ]
    }
   ],
   "source": [
    "# importing pandas module\n",
    "import pandas as pd \n",
    "\n",
    "# importing numpy as np\n",
    "import numpy as np\n",
    "\n",
    "# Define a dictionary containing employee data \n",
    "data1 = {'Name':['Jai', 'Anuj', 'Jai', 'Princi', \n",
    "\t\t\t\t'Gaurav', 'Anuj', 'Princi', 'Abhi'], \n",
    "\t\t'Age':[27, 24, 22, 32, \n",
    "\t\t\t33, 36, 27, 32], \n",
    "\t\t'Address':['Nagpur', 'Kanpur', 'Allahabad', 'Kannuaj',\n",
    "\t\t\t\t'Jaunpur', 'Kanpur', 'Allahabad', 'Aligarh'], \n",
    "\t\t'Qualification':['Msc', 'MA', 'MCA', 'Phd',\n",
    "\t\t\t\t\t\t'B.Tech', 'B.com', 'Msc', 'MA'],\n",
    "\t\t'Score': [23, 34, 35, 45, 47, 50, 52, 53]} \n",
    "\t\n",
    "\n",
    "# Convert the dictionary into DataFrame \n",
    "df = pd.DataFrame(data1)\n",
    "\n",
    "print(df) \n"
   ]
  },
  {
   "cell_type": "code",
   "execution_count": 20,
   "id": "e7ef9718-828d-4cf3-8714-93ce8ec71669",
   "metadata": {},
   "outputs": [
    {
     "data": {
      "text/html": [
       "<div>\n",
       "<style scoped>\n",
       "    .dataframe tbody tr th:only-of-type {\n",
       "        vertical-align: middle;\n",
       "    }\n",
       "\n",
       "    .dataframe tbody tr th {\n",
       "        vertical-align: top;\n",
       "    }\n",
       "\n",
       "    .dataframe thead th {\n",
       "        text-align: right;\n",
       "    }\n",
       "</style>\n",
       "<table border=\"1\" class=\"dataframe\">\n",
       "  <thead>\n",
       "    <tr style=\"text-align: right;\">\n",
       "      <th></th>\n",
       "      <th>Age</th>\n",
       "      <th>Score</th>\n",
       "    </tr>\n",
       "    <tr>\n",
       "      <th>Name</th>\n",
       "      <th></th>\n",
       "      <th></th>\n",
       "    </tr>\n",
       "  </thead>\n",
       "  <tbody>\n",
       "    <tr>\n",
       "      <th>Abhi</th>\n",
       "      <td>32</td>\n",
       "      <td>NaN</td>\n",
       "    </tr>\n",
       "    <tr>\n",
       "      <th>Anuj</th>\n",
       "      <td>60</td>\n",
       "      <td>11.313708</td>\n",
       "    </tr>\n",
       "    <tr>\n",
       "      <th>Gaurav</th>\n",
       "      <td>33</td>\n",
       "      <td>NaN</td>\n",
       "    </tr>\n",
       "    <tr>\n",
       "      <th>Jai</th>\n",
       "      <td>49</td>\n",
       "      <td>8.485281</td>\n",
       "    </tr>\n",
       "    <tr>\n",
       "      <th>Princi</th>\n",
       "      <td>59</td>\n",
       "      <td>4.949747</td>\n",
       "    </tr>\n",
       "  </tbody>\n",
       "</table>\n",
       "</div>"
      ],
      "text/plain": [
       "        Age      Score\n",
       "Name                  \n",
       "Abhi     32        NaN\n",
       "Anuj     60  11.313708\n",
       "Gaurav   33        NaN\n",
       "Jai      49   8.485281\n",
       "Princi   59   4.949747"
      ]
     },
     "execution_count": 20,
     "metadata": {},
     "output_type": "execute_result"
    }
   ],
   "source": [
    "grp = df.groupby('Name')\n",
    "grp.agg({'Age' : 'sum', 'Score' : 'std'})"
   ]
  },
  {
   "cell_type": "code",
   "execution_count": 23,
   "id": "739564a8-f0b3-44f9-9bd4-4d1d039fd909",
   "metadata": {},
   "outputs": [
    {
     "name": "stdout",
     "output_type": "stream",
     "text": [
      "     Name  Age    Address Qualification  Score\n",
      "0     Jai   27     Nagpur           Msc     23\n",
      "1    Anuj   24     Kanpur            MA     34\n",
      "2     Jai   22  Allahabad           MCA     35\n",
      "3  Princi   32    Kannuaj           Phd     45\n",
      "4  Gaurav   33    Jaunpur        B.Tech     47\n",
      "5    Anuj   36     Kanpur         B.com     50\n",
      "6  Princi   27  Allahabad           Msc     52\n",
      "7    Abhi   32    Aligarh            MA     53\n"
     ]
    }
   ],
   "source": [
    "# importing pandas module\n",
    "import pandas as pd \n",
    "\n",
    "# importing numpy as np\n",
    "import numpy as np\n",
    "\n",
    "# Define a dictionary containing employee data \n",
    "data1 = {'Name':['Jai', 'Anuj', 'Jai', 'Princi', \n",
    "\t\t\t\t'Gaurav', 'Anuj', 'Princi', 'Abhi'], \n",
    "\t\t'Age':[27, 24, 22, 32, \n",
    "\t\t\t33, 36, 27, 32], \n",
    "\t\t'Address':['Nagpur', 'Kanpur', 'Allahabad', 'Kannuaj',\n",
    "\t\t\t\t'Jaunpur', 'Kanpur', 'Allahabad', 'Aligarh'], \n",
    "\t\t'Qualification':['Msc', 'MA', 'MCA', 'Phd',\n",
    "\t\t\t\t\t\t'B.Tech', 'B.com', 'Msc', 'MA'],\n",
    "\t\t'Score': [23, 34, 35, 45, 47, 50, 52, 53]} \n",
    "\t\n",
    "\n",
    "# Convert the dictionary into DataFrame \n",
    "df = pd.DataFrame(data1)\n",
    "\n",
    "print(df) \n"
   ]
  },
  {
   "cell_type": "code",
   "execution_count": 27,
   "id": "56292274-d75e-49d1-ba74-bd489b1bb625",
   "metadata": {},
   "outputs": [
    {
     "data": {
      "text/html": [
       "<div>\n",
       "<style scoped>\n",
       "    .dataframe tbody tr th:only-of-type {\n",
       "        vertical-align: middle;\n",
       "    }\n",
       "\n",
       "    .dataframe tbody tr th {\n",
       "        vertical-align: top;\n",
       "    }\n",
       "\n",
       "    .dataframe thead th {\n",
       "        text-align: right;\n",
       "    }\n",
       "</style>\n",
       "<table border=\"1\" class=\"dataframe\">\n",
       "  <thead>\n",
       "    <tr style=\"text-align: right;\">\n",
       "      <th></th>\n",
       "      <th>Age</th>\n",
       "      <th>Score</th>\n",
       "    </tr>\n",
       "  </thead>\n",
       "  <tbody>\n",
       "    <tr>\n",
       "      <th>0</th>\n",
       "      <td>7.071068</td>\n",
       "      <td>-7.071068</td>\n",
       "    </tr>\n",
       "    <tr>\n",
       "      <th>1</th>\n",
       "      <td>-7.071068</td>\n",
       "      <td>-7.071068</td>\n",
       "    </tr>\n",
       "    <tr>\n",
       "      <th>2</th>\n",
       "      <td>-7.071068</td>\n",
       "      <td>7.071068</td>\n",
       "    </tr>\n",
       "    <tr>\n",
       "      <th>3</th>\n",
       "      <td>7.071068</td>\n",
       "      <td>-7.071068</td>\n",
       "    </tr>\n",
       "    <tr>\n",
       "      <th>4</th>\n",
       "      <td>NaN</td>\n",
       "      <td>NaN</td>\n",
       "    </tr>\n",
       "    <tr>\n",
       "      <th>5</th>\n",
       "      <td>7.071068</td>\n",
       "      <td>7.071068</td>\n",
       "    </tr>\n",
       "    <tr>\n",
       "      <th>6</th>\n",
       "      <td>-7.071068</td>\n",
       "      <td>7.071068</td>\n",
       "    </tr>\n",
       "    <tr>\n",
       "      <th>7</th>\n",
       "      <td>NaN</td>\n",
       "      <td>NaN</td>\n",
       "    </tr>\n",
       "  </tbody>\n",
       "</table>\n",
       "</div>"
      ],
      "text/plain": [
       "        Age     Score\n",
       "0  7.071068 -7.071068\n",
       "1 -7.071068 -7.071068\n",
       "2 -7.071068  7.071068\n",
       "3  7.071068 -7.071068\n",
       "4       NaN       NaN\n",
       "5  7.071068  7.071068\n",
       "6 -7.071068  7.071068\n",
       "7       NaN       NaN"
      ]
     },
     "execution_count": 27,
     "metadata": {},
     "output_type": "execute_result"
    }
   ],
   "source": [
    "# using transform function\n",
    "grp = df.groupby('Name')\n",
    "sc = lambda x: (x - x.mean()) / x.std()*10\n",
    "grp[['Age','Score']].transform(sc)\n"
   ]
  },
  {
   "cell_type": "code",
   "execution_count": 31,
   "id": "9763c76b-a4ff-4004-9982-491bb095293e",
   "metadata": {},
   "outputs": [
    {
     "data": {
      "text/html": [
       "<div>\n",
       "<style scoped>\n",
       "    .dataframe tbody tr th:only-of-type {\n",
       "        vertical-align: middle;\n",
       "    }\n",
       "\n",
       "    .dataframe tbody tr th {\n",
       "        vertical-align: top;\n",
       "    }\n",
       "\n",
       "    .dataframe thead th {\n",
       "        text-align: right;\n",
       "    }\n",
       "</style>\n",
       "<table border=\"1\" class=\"dataframe\">\n",
       "  <thead>\n",
       "    <tr style=\"text-align: right;\">\n",
       "      <th></th>\n",
       "      <th>Name</th>\n",
       "      <th>Age</th>\n",
       "      <th>Address</th>\n",
       "      <th>Qualification</th>\n",
       "      <th>Score</th>\n",
       "    </tr>\n",
       "  </thead>\n",
       "  <tbody>\n",
       "    <tr>\n",
       "      <th>0</th>\n",
       "      <td>Jai</td>\n",
       "      <td>27</td>\n",
       "      <td>Nagpur</td>\n",
       "      <td>Msc</td>\n",
       "      <td>23</td>\n",
       "    </tr>\n",
       "    <tr>\n",
       "      <th>1</th>\n",
       "      <td>Anuj</td>\n",
       "      <td>24</td>\n",
       "      <td>Kanpur</td>\n",
       "      <td>MA</td>\n",
       "      <td>34</td>\n",
       "    </tr>\n",
       "    <tr>\n",
       "      <th>2</th>\n",
       "      <td>Jai</td>\n",
       "      <td>22</td>\n",
       "      <td>Allahabad</td>\n",
       "      <td>MCA</td>\n",
       "      <td>35</td>\n",
       "    </tr>\n",
       "    <tr>\n",
       "      <th>3</th>\n",
       "      <td>Princi</td>\n",
       "      <td>32</td>\n",
       "      <td>Kannuaj</td>\n",
       "      <td>Phd</td>\n",
       "      <td>45</td>\n",
       "    </tr>\n",
       "    <tr>\n",
       "      <th>5</th>\n",
       "      <td>Anuj</td>\n",
       "      <td>36</td>\n",
       "      <td>Kanpur</td>\n",
       "      <td>B.com</td>\n",
       "      <td>50</td>\n",
       "    </tr>\n",
       "    <tr>\n",
       "      <th>6</th>\n",
       "      <td>Princi</td>\n",
       "      <td>27</td>\n",
       "      <td>Allahabad</td>\n",
       "      <td>Msc</td>\n",
       "      <td>52</td>\n",
       "    </tr>\n",
       "  </tbody>\n",
       "</table>\n",
       "</div>"
      ],
      "text/plain": [
       "     Name  Age    Address Qualification  Score\n",
       "0     Jai   27     Nagpur           Msc     23\n",
       "1    Anuj   24     Kanpur            MA     34\n",
       "2     Jai   22  Allahabad           MCA     35\n",
       "3  Princi   32    Kannuaj           Phd     45\n",
       "5    Anuj   36     Kanpur         B.com     50\n",
       "6  Princi   27  Allahabad           Msc     52"
      ]
     },
     "execution_count": 31,
     "metadata": {},
     "output_type": "execute_result"
    }
   ],
   "source": [
    "grp.filter(lambda x: len(x) >= 2)"
   ]
  },
  {
   "cell_type": "code",
   "execution_count": 32,
   "id": "3abda413-af73-448c-90ec-6d6d14888a21",
   "metadata": {},
   "outputs": [
    {
     "name": "stdout",
     "output_type": "stream",
     "text": [
      "                Team      Player  Goals\n",
      "0            Arsenal        Ozil      5\n",
      "1  Manchester United       Pogba      3\n",
      "2            Arsenal       Lucas      6\n",
      "3            Arsenal  Aubameyang      4\n",
      "4            Chelsea      Hazard      9\n",
      "5  Manchester United        Mata      2\n",
      "6  Manchester United      Lukaku      0\n",
      "7            Chelsea      Morata      5\n",
      "8            Chelsea      Giroud      2\n",
      "9            Chelsea       Kante      3\n"
     ]
    }
   ],
   "source": [
    "# importing Pandas \n",
    "import pandas as pd \n",
    "\n",
    "# example dataframe \n",
    "example = {'Team':['Arsenal', 'Manchester United', 'Arsenal', \n",
    "\t\t\t\t'Arsenal', 'Chelsea', 'Manchester United', \n",
    "\t\t\t\t'Manchester United', 'Chelsea', 'Chelsea', 'Chelsea'], \n",
    "\t\t\t\t\t\n",
    "\t\t'Player':['Ozil', 'Pogba', 'Lucas', 'Aubameyang', \n",
    "\t\t\t\t\t'Hazard', 'Mata', 'Lukaku', 'Morata', \n",
    "\t\t\t\t\t\t\t\t\t\t'Giroud', 'Kante'], \n",
    "\t\t\t\t\t\t\t\t\t\t\n",
    "\t\t'Goals':[5, 3, 6, 4, 9, 2, 0, 5, 2, 3] } \n",
    "\n",
    "df = pd.DataFrame(example) \n",
    "\n",
    "print(df) "
   ]
  },
  {
   "cell_type": "code",
   "execution_count": 33,
   "id": "911b9993-28c1-4cf0-8916-c8ba4eed83d4",
   "metadata": {},
   "outputs": [
    {
     "name": "stdout",
     "output_type": "stream",
     "text": [
      "Team\n",
      "Arsenal              5.000000\n",
      "Chelsea              4.750000\n",
      "Manchester United    1.666667\n",
      "Name: Goals, dtype: float64\n"
     ]
    }
   ],
   "source": [
    "total_goals = df['Goals'].groupby(df['Team']) \n",
    "\n",
    "# printing the means value \n",
    "print(total_goals.mean())\t "
   ]
  },
  {
   "cell_type": "code",
   "execution_count": 36,
   "id": "4d84dc72-577d-41d6-864b-0a3077caf903",
   "metadata": {},
   "outputs": [
    {
     "data": {
      "text/plain": [
       "Team\n",
       "Arsenal              15\n",
       "Chelsea              19\n",
       "Manchester United     5\n",
       "Name: Goals, dtype: int64"
      ]
     },
     "execution_count": 36,
     "metadata": {},
     "output_type": "execute_result"
    }
   ],
   "source": [
    "total_goals.sum()"
   ]
  },
  {
   "cell_type": "code",
   "execution_count": 37,
   "id": "77295442-607d-44f3-a5a3-01f85325a957",
   "metadata": {},
   "outputs": [
    {
     "name": "stdout",
     "output_type": "stream",
     "text": [
      "  id  Column 1.1  Column 1.2  Column 1.3  Column 2.1  Column 2.2\n",
      "0  1          14          10           1           1          10\n",
      "1  2          15          10           4           2          10\n",
      "2  3          16          10           5           3          10\n"
     ]
    }
   ],
   "source": [
    "# importing pandas as pd \n",
    "import pandas as pd \n",
    "\n",
    "# Creating a dictionary \n",
    "d = {'id':['1', '2', '3'], \n",
    "\t'Column 1.1':[14, 15, 16], \n",
    "\t'Column 1.2':[10, 10, 10], \n",
    "\t'Column 1.3':[1, 4, 5], \n",
    "\t'Column 2.1':[1, 2, 3], \n",
    "\t'Column 2.2':[10, 10, 10], } \n",
    "\n",
    "# Converting dictionary into a data-frame \n",
    "df = pd.DataFrame(d) \n",
    "print(df) "
   ]
  },
  {
   "cell_type": "code",
   "execution_count": 46,
   "id": "52e47972-a1a7-4ab1-b336-dfcd5c1e178f",
   "metadata": {},
   "outputs": [
    {
     "name": "stdout",
     "output_type": "stream",
     "text": [
      "    Column 1  Column 2\n",
      "id                    \n",
      "1          1         1\n",
      "2          4         2\n",
      "3          5         3\n"
     ]
    }
   ],
   "source": [
    "import pandas as pd \n",
    "\n",
    "# Creating a dictionary \n",
    "d = {'id':['1', '2', '3'], \n",
    "\t'Column 1.1':[14, 15, 16], \n",
    "\t'Column 1.2':[10, 10, 10], \n",
    "\t'Column 1.3':[1, 4, 5], \n",
    "\t'Column 2.1':[1, 2, 3], \n",
    "\t'Column 2.2':[10, 10, 10]} \n",
    "\n",
    "# Converting dictionary into a data-frame \n",
    "df = pd.DataFrame(d) \n",
    "\n",
    "# Dictionary to group columns\n",
    "groupby_dict = {'Column 1.1':'Column 1', \n",
    "\t\t\t\t'Column 1.2':'Column 1', \n",
    "\t\t\t\t'Column 1.3':'Column 1', \n",
    "\t\t\t\t'Column 2.1':'Column 2', \n",
    "\t\t\t\t'Column 2.2':'Column 2'} \n",
    "\n",
    "# Set the index of df as Column 'id' \n",
    "df = df.set_index('id') \n",
    "\n",
    "# Groupby the columns according to the groupby_dict \n",
    "# First, transpose the DataFrame to align columns with rows\n",
    "df = df.T\n",
    "\n",
    "# Then, group by the groupby_dict and apply min, transpose back\n",
    "df = df.groupby(groupby_dict).min().T\n",
    "\n",
    "print(df)\n"
   ]
  },
  {
   "cell_type": "code",
   "execution_count": null,
   "id": "49d51ae7-e016-4e5b-8722-03ba89c69086",
   "metadata": {},
   "outputs": [],
   "source": []
  }
 ],
 "metadata": {
  "kernelspec": {
   "display_name": "Python 3 (ipykernel)",
   "language": "python",
   "name": "python3"
  },
  "language_info": {
   "codemirror_mode": {
    "name": "ipython",
    "version": 3
   },
   "file_extension": ".py",
   "mimetype": "text/x-python",
   "name": "python",
   "nbconvert_exporter": "python",
   "pygments_lexer": "ipython3",
   "version": "3.12.3"
  }
 },
 "nbformat": 4,
 "nbformat_minor": 5
}
